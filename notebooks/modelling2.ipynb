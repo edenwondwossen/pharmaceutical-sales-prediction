{
 "cells": [
  {
   "cell_type": "code",
   "execution_count": 1,
   "id": "161e9bae",
   "metadata": {},
   "outputs": [],
   "source": [
    "import pandas as pd\n",
    "from sklearn.model_selection import train_test_split\n",
    "from sklearn.preprocessing import StandardScaler\n",
    "from sklearn.decomposition import PCA\n",
    "from sklearn.pipeline import Pipeline\n",
    "from sklearn.ensemble import RandomForestRegressor\n",
    "from sklearn.impute import SimpleImputer\n",
    "\n",
    "import os\n",
    "import sys\n",
    "sys.path.append(os.path.abspath(os.path.join('../scripts')))\n",
    "from eda import *"
   ]
  },
  {
   "cell_type": "code",
   "execution_count": 2,
   "id": "34f8bca2",
   "metadata": {},
   "outputs": [],
   "source": [
    "x = pd.read_csv('../data/features/train_features.csv')\n",
    "yt = pd.read_csv('../data/features/target_sales.csv')\n",
    "z = pd.read_csv('../data/features/test_features.csv')\n",
    "train_df = pd.read_csv('../data/eda/merged.csv')"
   ]
  },
  {
   "cell_type": "code",
   "execution_count": 3,
   "id": "c0af198e",
   "metadata": {},
   "outputs": [
    {
     "data": {
      "text/plain": [
       "<bound method DataFrame.info of         Store  DayOfWeek  Open  Promo  StateHoliday  SchoolHoliday  Year  \\\n",
       "0           1          5     1      1             0              1  2015   \n",
       "1           2          5     1      1             0              1  2015   \n",
       "2           3          5     1      1             0              1  2015   \n",
       "3           4          5     1      1             0              1  2015   \n",
       "4           5          5     1      1             0              1  2015   \n",
       "...       ...        ...   ...    ...           ...            ...   ...   \n",
       "844387    682          2     1      0             1              1  2013   \n",
       "844388    733          2     1      0             1              1  2013   \n",
       "844389    769          2     1      0             1              1  2013   \n",
       "844390    948          2     1      0             1              1  2013   \n",
       "844391   1097          2     1      0             1              1  2013   \n",
       "\n",
       "        Month  DayOfMonth  WeekOfYear  weekday  part_of_month  \n",
       "0           7          31          31        1              2  \n",
       "1           7          31          31        1              2  \n",
       "2           7          31          31        1              2  \n",
       "3           7          31          31        1              2  \n",
       "4           7          31          31        1              2  \n",
       "...       ...         ...         ...      ...            ...  \n",
       "844387      1           1           1        1              0  \n",
       "844388      1           1           1        1              0  \n",
       "844389      1           1           1        1              0  \n",
       "844390      1           1           1        1              0  \n",
       "844391      1           1           1        1              0  \n",
       "\n",
       "[844392 rows x 12 columns]>"
      ]
     },
     "execution_count": 3,
     "metadata": {},
     "output_type": "execute_result"
    }
   ],
   "source": [
    "x.info"
   ]
  },
  {
   "cell_type": "code",
   "execution_count": 4,
   "id": "c8f1b9e4",
   "metadata": {},
   "outputs": [
    {
     "data": {
      "text/plain": [
       "<bound method DataFrame.info of          Store  DayOfWeek        Date  Sales  Customers  Open  Promo  \\\n",
       "0            1          5  2015-07-31   5263        555     1      1   \n",
       "1            1          4  2015-07-30   5020        546     1      1   \n",
       "2            1          3  2015-07-29   4782        523     1      1   \n",
       "3            1          2  2015-07-28   5011        560     1      1   \n",
       "4            1          1  2015-07-27   6102        612     1      1   \n",
       "...        ...        ...         ...    ...        ...   ...    ...   \n",
       "1017204   1115          6  2013-01-05   4771        339     1      0   \n",
       "1017205   1115          5  2013-01-04   4540        326     1      0   \n",
       "1017206   1115          4  2013-01-03   4297        300     1      0   \n",
       "1017207   1115          3  2013-01-02   3697        305     1      0   \n",
       "1017208   1115          2  2013-01-01      0          0     0      0   \n",
       "\n",
       "        StateHoliday  SchoolHoliday  Year  ...  CompetitionOpenSinceYear  \\\n",
       "0                  0              1  2015  ...                      2008   \n",
       "1                  0              1  2015  ...                      2008   \n",
       "2                  0              1  2015  ...                      2008   \n",
       "3                  0              1  2015  ...                      2008   \n",
       "4                  0              1  2015  ...                      2008   \n",
       "...              ...            ...   ...  ...                       ...   \n",
       "1017204            0              1  2013  ...                      1900   \n",
       "1017205            0              1  2013  ...                      1900   \n",
       "1017206            0              1  2013  ...                      1900   \n",
       "1017207            0              1  2013  ...                      1900   \n",
       "1017208            a              1  2013  ...                      1900   \n",
       "\n",
       "         Promo2  Promo2SinceWeek  Promo2SinceYear     PromoInterval  \\\n",
       "0             0                0                0           0,0,0,0   \n",
       "1             0                0                0           0,0,0,0   \n",
       "2             0                0                0           0,0,0,0   \n",
       "3             0                0                0           0,0,0,0   \n",
       "4             0                0                0           0,0,0,0   \n",
       "...         ...              ...              ...               ...   \n",
       "1017204       1               22             2012  Mar,Jun,Sept,Dec   \n",
       "1017205       1               22             2012  Mar,Jun,Sept,Dec   \n",
       "1017206       1               22             2012  Mar,Jun,Sept,Dec   \n",
       "1017207       1               22             2012  Mar,Jun,Sept,Dec   \n",
       "1017208       1               22             2012  Mar,Jun,Sept,Dec   \n",
       "\n",
       "        CompetitionBeforeStoreOpened  PromoInterval0  PromoInterval1  \\\n",
       "0                                  0               0               0   \n",
       "1                                  0               0               0   \n",
       "2                                  0               0               0   \n",
       "3                                  0               0               0   \n",
       "4                                  0               0               0   \n",
       "...                              ...             ...             ...   \n",
       "1017204                            1               3               6   \n",
       "1017205                            1               3               6   \n",
       "1017206                            1               3               6   \n",
       "1017207                            1               3               6   \n",
       "1017208                            1               3               6   \n",
       "\n",
       "         PromoInterval2  PromoInterval3  \n",
       "0                     0               0  \n",
       "1                     0               0  \n",
       "2                     0               0  \n",
       "3                     0               0  \n",
       "4                     0               0  \n",
       "...                 ...             ...  \n",
       "1017204               9              12  \n",
       "1017205               9              12  \n",
       "1017206               9              12  \n",
       "1017207               9              12  \n",
       "1017208               9              12  \n",
       "\n",
       "[1017209 rows x 28 columns]>"
      ]
     },
     "execution_count": 4,
     "metadata": {},
     "output_type": "execute_result"
    }
   ],
   "source": [
    "train_df.info"
   ]
  },
  {
   "cell_type": "code",
   "execution_count": 5,
   "id": "bb45af6a",
   "metadata": {},
   "outputs": [],
   "source": [
    "#X_train,X_test,y_train,y_test=train_test_split(x, y,test_size=0.3,random_state=0)\n",
    "X_train, X_test, y_train, y_test = train_test_split(x, yt, test_size=0.2, random_state=123)"
   ]
  },
  {
   "cell_type": "code",
   "execution_count": 6,
   "id": "8b784fb9",
   "metadata": {},
   "outputs": [],
   "source": [
    "pipeline_randomforest=Pipeline([\n",
    "                     ('imputer', SimpleImputer(strategy='mean')),\n",
    "                    ('scalar3',StandardScaler()),\n",
    "                     ('rf_classifier',RandomForestRegressor(n_jobs=-1, n_estimators=15,\n",
    "                                verbose=True,\n",
    "                                max_depth=15,\n",
    "                                min_samples_split=2,\n",
    "                                min_samples_leaf=1))])"
   ]
  },
  {
   "cell_type": "code",
   "execution_count": 7,
   "id": "6dbaa8b4",
   "metadata": {},
   "outputs": [
    {
     "name": "stderr",
     "output_type": "stream",
     "text": [
      "[Parallel(n_jobs=-1)]: Using backend ThreadingBackend with 4 concurrent workers.\n",
      "[Parallel(n_jobs=-1)]: Done  15 out of  15 | elapsed:   31.4s finished\n"
     ]
    }
   ],
   "source": [
    "rf_model = pipeline_randomforest.fit(X_train, y_train.values.ravel())\n"
   ]
  },
  {
   "cell_type": "code",
   "execution_count": 8,
   "id": "4b4b6174",
   "metadata": {},
   "outputs": [
    {
     "name": "stderr",
     "output_type": "stream",
     "text": [
      "[Parallel(n_jobs=4)]: Using backend ThreadingBackend with 4 concurrent workers.\n",
      "[Parallel(n_jobs=4)]: Done  15 out of  15 | elapsed:    0.3s finished\n"
     ]
    },
    {
     "data": {
      "text/plain": [
       "0.380203287348447"
      ]
     },
     "execution_count": 8,
     "metadata": {},
     "output_type": "execute_result"
    }
   ],
   "source": [
    "rf_model.score(x, yt)"
   ]
  },
  {
   "cell_type": "code",
   "execution_count": null,
   "id": "23cb08f4",
   "metadata": {},
   "outputs": [],
   "source": []
  }
 ],
 "metadata": {
  "kernelspec": {
   "display_name": "Python 3 (ipykernel)",
   "language": "python",
   "name": "python3"
  },
  "language_info": {
   "codemirror_mode": {
    "name": "ipython",
    "version": 3
   },
   "file_extension": ".py",
   "mimetype": "text/x-python",
   "name": "python",
   "nbconvert_exporter": "python",
   "pygments_lexer": "ipython3",
   "version": "3.9.7"
  }
 },
 "nbformat": 4,
 "nbformat_minor": 5
}
