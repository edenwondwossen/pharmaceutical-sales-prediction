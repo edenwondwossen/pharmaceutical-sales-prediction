{
 "cells": [
  {
   "cell_type": "markdown",
   "id": "092c49c8",
   "metadata": {},
   "source": [
    "# Exploratory Data Analysis"
   ]
  },
  {
   "cell_type": "markdown",
   "id": "a3330a4f",
   "metadata": {},
   "source": [
    "## Import Libraries"
   ]
  },
  {
   "cell_type": "code",
   "execution_count": 1,
   "id": "a735be79",
   "metadata": {},
   "outputs": [],
   "source": [
    "import numpy as np\n",
    "import pandas as pd\n",
    "import sys, os\n",
    "import warnings\n",
    "import matplotlib.pyplot as plt\n",
    "import seaborn as sns\n",
    "import plotly.express as px"
   ]
  },
  {
   "cell_type": "code",
   "execution_count": 2,
   "id": "2a6bbeca",
   "metadata": {
    "scrolled": true
   },
   "outputs": [],
   "source": [
    "sys.path.append(os.path.abspath(os.path.join('../scripts')))\n",
    "from file_handler import FileHandler\n",
    "from eda import *\n"
   ]
  },
  {
   "cell_type": "code",
   "execution_count": 3,
   "id": "cb2a1b6d",
   "metadata": {},
   "outputs": [],
   "source": [
    "warnings.filterwarnings('ignore')\n",
    "pd.set_option('display.max_columns', 50)"
   ]
  },
  {
   "cell_type": "markdown",
   "id": "17ea8781",
   "metadata": {},
   "source": [
    "## Understanding the dataset"
   ]
  },
  {
   "cell_type": "code",
   "execution_count": 4,
   "id": "1c313c13",
   "metadata": {},
   "outputs": [],
   "source": [
    "# create a FileHandler object\n",
    "file_handler = FileHandler()"
   ]
  },
  {
   "cell_type": "code",
   "execution_count": 5,
   "id": "c9730f5c",
   "metadata": {},
   "outputs": [
    {
     "data": {
      "text/html": [
       "<div>\n",
       "<style scoped>\n",
       "    .dataframe tbody tr th:only-of-type {\n",
       "        vertical-align: middle;\n",
       "    }\n",
       "\n",
       "    .dataframe tbody tr th {\n",
       "        vertical-align: top;\n",
       "    }\n",
       "\n",
       "    .dataframe thead th {\n",
       "        text-align: right;\n",
       "    }\n",
       "</style>\n",
       "<table border=\"1\" class=\"dataframe\">\n",
       "  <thead>\n",
       "    <tr style=\"text-align: right;\">\n",
       "      <th></th>\n",
       "      <th>Store</th>\n",
       "      <th>StoreType</th>\n",
       "      <th>Assortment</th>\n",
       "      <th>CompetitionDistance</th>\n",
       "      <th>CompetitionOpenSinceMonth</th>\n",
       "      <th>CompetitionOpenSinceYear</th>\n",
       "      <th>Promo2</th>\n",
       "      <th>Promo2SinceWeek</th>\n",
       "      <th>Promo2SinceYear</th>\n",
       "      <th>PromoInterval</th>\n",
       "    </tr>\n",
       "  </thead>\n",
       "  <tbody>\n",
       "    <tr>\n",
       "      <th>0</th>\n",
       "      <td>1</td>\n",
       "      <td>c</td>\n",
       "      <td>a</td>\n",
       "      <td>1270.0</td>\n",
       "      <td>9.0</td>\n",
       "      <td>2008.0</td>\n",
       "      <td>0</td>\n",
       "      <td>NaN</td>\n",
       "      <td>NaN</td>\n",
       "      <td>NaN</td>\n",
       "    </tr>\n",
       "    <tr>\n",
       "      <th>1</th>\n",
       "      <td>2</td>\n",
       "      <td>a</td>\n",
       "      <td>a</td>\n",
       "      <td>570.0</td>\n",
       "      <td>11.0</td>\n",
       "      <td>2007.0</td>\n",
       "      <td>1</td>\n",
       "      <td>13.0</td>\n",
       "      <td>2010.0</td>\n",
       "      <td>Jan,Apr,Jul,Oct</td>\n",
       "    </tr>\n",
       "    <tr>\n",
       "      <th>2</th>\n",
       "      <td>3</td>\n",
       "      <td>a</td>\n",
       "      <td>a</td>\n",
       "      <td>14130.0</td>\n",
       "      <td>12.0</td>\n",
       "      <td>2006.0</td>\n",
       "      <td>1</td>\n",
       "      <td>14.0</td>\n",
       "      <td>2011.0</td>\n",
       "      <td>Jan,Apr,Jul,Oct</td>\n",
       "    </tr>\n",
       "    <tr>\n",
       "      <th>3</th>\n",
       "      <td>4</td>\n",
       "      <td>c</td>\n",
       "      <td>c</td>\n",
       "      <td>620.0</td>\n",
       "      <td>9.0</td>\n",
       "      <td>2009.0</td>\n",
       "      <td>0</td>\n",
       "      <td>NaN</td>\n",
       "      <td>NaN</td>\n",
       "      <td>NaN</td>\n",
       "    </tr>\n",
       "    <tr>\n",
       "      <th>4</th>\n",
       "      <td>5</td>\n",
       "      <td>a</td>\n",
       "      <td>a</td>\n",
       "      <td>29910.0</td>\n",
       "      <td>4.0</td>\n",
       "      <td>2015.0</td>\n",
       "      <td>0</td>\n",
       "      <td>NaN</td>\n",
       "      <td>NaN</td>\n",
       "      <td>NaN</td>\n",
       "    </tr>\n",
       "    <tr>\n",
       "      <th>5</th>\n",
       "      <td>6</td>\n",
       "      <td>a</td>\n",
       "      <td>a</td>\n",
       "      <td>310.0</td>\n",
       "      <td>12.0</td>\n",
       "      <td>2013.0</td>\n",
       "      <td>0</td>\n",
       "      <td>NaN</td>\n",
       "      <td>NaN</td>\n",
       "      <td>NaN</td>\n",
       "    </tr>\n",
       "    <tr>\n",
       "      <th>6</th>\n",
       "      <td>7</td>\n",
       "      <td>a</td>\n",
       "      <td>c</td>\n",
       "      <td>24000.0</td>\n",
       "      <td>4.0</td>\n",
       "      <td>2013.0</td>\n",
       "      <td>0</td>\n",
       "      <td>NaN</td>\n",
       "      <td>NaN</td>\n",
       "      <td>NaN</td>\n",
       "    </tr>\n",
       "    <tr>\n",
       "      <th>7</th>\n",
       "      <td>8</td>\n",
       "      <td>a</td>\n",
       "      <td>a</td>\n",
       "      <td>7520.0</td>\n",
       "      <td>10.0</td>\n",
       "      <td>2014.0</td>\n",
       "      <td>0</td>\n",
       "      <td>NaN</td>\n",
       "      <td>NaN</td>\n",
       "      <td>NaN</td>\n",
       "    </tr>\n",
       "    <tr>\n",
       "      <th>8</th>\n",
       "      <td>9</td>\n",
       "      <td>a</td>\n",
       "      <td>c</td>\n",
       "      <td>2030.0</td>\n",
       "      <td>8.0</td>\n",
       "      <td>2000.0</td>\n",
       "      <td>0</td>\n",
       "      <td>NaN</td>\n",
       "      <td>NaN</td>\n",
       "      <td>NaN</td>\n",
       "    </tr>\n",
       "    <tr>\n",
       "      <th>9</th>\n",
       "      <td>10</td>\n",
       "      <td>a</td>\n",
       "      <td>a</td>\n",
       "      <td>3160.0</td>\n",
       "      <td>9.0</td>\n",
       "      <td>2009.0</td>\n",
       "      <td>0</td>\n",
       "      <td>NaN</td>\n",
       "      <td>NaN</td>\n",
       "      <td>NaN</td>\n",
       "    </tr>\n",
       "  </tbody>\n",
       "</table>\n",
       "</div>"
      ],
      "text/plain": [
       "   Store StoreType Assortment  CompetitionDistance  CompetitionOpenSinceMonth  \\\n",
       "0      1         c          a               1270.0                        9.0   \n",
       "1      2         a          a                570.0                       11.0   \n",
       "2      3         a          a              14130.0                       12.0   \n",
       "3      4         c          c                620.0                        9.0   \n",
       "4      5         a          a              29910.0                        4.0   \n",
       "5      6         a          a                310.0                       12.0   \n",
       "6      7         a          c              24000.0                        4.0   \n",
       "7      8         a          a               7520.0                       10.0   \n",
       "8      9         a          c               2030.0                        8.0   \n",
       "9     10         a          a               3160.0                        9.0   \n",
       "\n",
       "   CompetitionOpenSinceYear  Promo2  Promo2SinceWeek  Promo2SinceYear  \\\n",
       "0                    2008.0       0              NaN              NaN   \n",
       "1                    2007.0       1             13.0           2010.0   \n",
       "2                    2006.0       1             14.0           2011.0   \n",
       "3                    2009.0       0              NaN              NaN   \n",
       "4                    2015.0       0              NaN              NaN   \n",
       "5                    2013.0       0              NaN              NaN   \n",
       "6                    2013.0       0              NaN              NaN   \n",
       "7                    2014.0       0              NaN              NaN   \n",
       "8                    2000.0       0              NaN              NaN   \n",
       "9                    2009.0       0              NaN              NaN   \n",
       "\n",
       "     PromoInterval  \n",
       "0              NaN  \n",
       "1  Jan,Apr,Jul,Oct  \n",
       "2  Jan,Apr,Jul,Oct  \n",
       "3              NaN  \n",
       "4              NaN  \n",
       "5              NaN  \n",
       "6              NaN  \n",
       "7              NaN  \n",
       "8              NaN  \n",
       "9              NaN  "
      ]
     },
     "execution_count": 5,
     "metadata": {},
     "output_type": "execute_result"
    }
   ],
   "source": [
    "# reading the store csv file\n",
    "store_df = file_handler.read_csv(\"../data/store.csv\")\n",
    "store_df.head(10)"
   ]
  },
  {
   "cell_type": "code",
   "execution_count": 6,
   "id": "4252e6ed",
   "metadata": {},
   "outputs": [
    {
     "data": {
      "text/html": [
       "<div>\n",
       "<style scoped>\n",
       "    .dataframe tbody tr th:only-of-type {\n",
       "        vertical-align: middle;\n",
       "    }\n",
       "\n",
       "    .dataframe tbody tr th {\n",
       "        vertical-align: top;\n",
       "    }\n",
       "\n",
       "    .dataframe thead th {\n",
       "        text-align: right;\n",
       "    }\n",
       "</style>\n",
       "<table border=\"1\" class=\"dataframe\">\n",
       "  <thead>\n",
       "    <tr style=\"text-align: right;\">\n",
       "      <th></th>\n",
       "      <th>Store</th>\n",
       "      <th>DayOfWeek</th>\n",
       "      <th>Date</th>\n",
       "      <th>Sales</th>\n",
       "      <th>Customers</th>\n",
       "      <th>Open</th>\n",
       "      <th>Promo</th>\n",
       "      <th>StateHoliday</th>\n",
       "      <th>SchoolHoliday</th>\n",
       "    </tr>\n",
       "  </thead>\n",
       "  <tbody>\n",
       "    <tr>\n",
       "      <th>0</th>\n",
       "      <td>1</td>\n",
       "      <td>5</td>\n",
       "      <td>2015-07-31</td>\n",
       "      <td>5263</td>\n",
       "      <td>555</td>\n",
       "      <td>1</td>\n",
       "      <td>1</td>\n",
       "      <td>0</td>\n",
       "      <td>1</td>\n",
       "    </tr>\n",
       "    <tr>\n",
       "      <th>1</th>\n",
       "      <td>2</td>\n",
       "      <td>5</td>\n",
       "      <td>2015-07-31</td>\n",
       "      <td>6064</td>\n",
       "      <td>625</td>\n",
       "      <td>1</td>\n",
       "      <td>1</td>\n",
       "      <td>0</td>\n",
       "      <td>1</td>\n",
       "    </tr>\n",
       "    <tr>\n",
       "      <th>2</th>\n",
       "      <td>3</td>\n",
       "      <td>5</td>\n",
       "      <td>2015-07-31</td>\n",
       "      <td>8314</td>\n",
       "      <td>821</td>\n",
       "      <td>1</td>\n",
       "      <td>1</td>\n",
       "      <td>0</td>\n",
       "      <td>1</td>\n",
       "    </tr>\n",
       "    <tr>\n",
       "      <th>3</th>\n",
       "      <td>4</td>\n",
       "      <td>5</td>\n",
       "      <td>2015-07-31</td>\n",
       "      <td>13995</td>\n",
       "      <td>1498</td>\n",
       "      <td>1</td>\n",
       "      <td>1</td>\n",
       "      <td>0</td>\n",
       "      <td>1</td>\n",
       "    </tr>\n",
       "    <tr>\n",
       "      <th>4</th>\n",
       "      <td>5</td>\n",
       "      <td>5</td>\n",
       "      <td>2015-07-31</td>\n",
       "      <td>4822</td>\n",
       "      <td>559</td>\n",
       "      <td>1</td>\n",
       "      <td>1</td>\n",
       "      <td>0</td>\n",
       "      <td>1</td>\n",
       "    </tr>\n",
       "    <tr>\n",
       "      <th>5</th>\n",
       "      <td>6</td>\n",
       "      <td>5</td>\n",
       "      <td>2015-07-31</td>\n",
       "      <td>5651</td>\n",
       "      <td>589</td>\n",
       "      <td>1</td>\n",
       "      <td>1</td>\n",
       "      <td>0</td>\n",
       "      <td>1</td>\n",
       "    </tr>\n",
       "    <tr>\n",
       "      <th>6</th>\n",
       "      <td>7</td>\n",
       "      <td>5</td>\n",
       "      <td>2015-07-31</td>\n",
       "      <td>15344</td>\n",
       "      <td>1414</td>\n",
       "      <td>1</td>\n",
       "      <td>1</td>\n",
       "      <td>0</td>\n",
       "      <td>1</td>\n",
       "    </tr>\n",
       "    <tr>\n",
       "      <th>7</th>\n",
       "      <td>8</td>\n",
       "      <td>5</td>\n",
       "      <td>2015-07-31</td>\n",
       "      <td>8492</td>\n",
       "      <td>833</td>\n",
       "      <td>1</td>\n",
       "      <td>1</td>\n",
       "      <td>0</td>\n",
       "      <td>1</td>\n",
       "    </tr>\n",
       "    <tr>\n",
       "      <th>8</th>\n",
       "      <td>9</td>\n",
       "      <td>5</td>\n",
       "      <td>2015-07-31</td>\n",
       "      <td>8565</td>\n",
       "      <td>687</td>\n",
       "      <td>1</td>\n",
       "      <td>1</td>\n",
       "      <td>0</td>\n",
       "      <td>1</td>\n",
       "    </tr>\n",
       "    <tr>\n",
       "      <th>9</th>\n",
       "      <td>10</td>\n",
       "      <td>5</td>\n",
       "      <td>2015-07-31</td>\n",
       "      <td>7185</td>\n",
       "      <td>681</td>\n",
       "      <td>1</td>\n",
       "      <td>1</td>\n",
       "      <td>0</td>\n",
       "      <td>1</td>\n",
       "    </tr>\n",
       "  </tbody>\n",
       "</table>\n",
       "</div>"
      ],
      "text/plain": [
       "   Store  DayOfWeek        Date  Sales  Customers  Open  Promo StateHoliday  \\\n",
       "0      1          5  2015-07-31   5263        555     1      1            0   \n",
       "1      2          5  2015-07-31   6064        625     1      1            0   \n",
       "2      3          5  2015-07-31   8314        821     1      1            0   \n",
       "3      4          5  2015-07-31  13995       1498     1      1            0   \n",
       "4      5          5  2015-07-31   4822        559     1      1            0   \n",
       "5      6          5  2015-07-31   5651        589     1      1            0   \n",
       "6      7          5  2015-07-31  15344       1414     1      1            0   \n",
       "7      8          5  2015-07-31   8492        833     1      1            0   \n",
       "8      9          5  2015-07-31   8565        687     1      1            0   \n",
       "9     10          5  2015-07-31   7185        681     1      1            0   \n",
       "\n",
       "   SchoolHoliday  \n",
       "0              1  \n",
       "1              1  \n",
       "2              1  \n",
       "3              1  \n",
       "4              1  \n",
       "5              1  \n",
       "6              1  \n",
       "7              1  \n",
       "8              1  \n",
       "9              1  "
      ]
     },
     "execution_count": 6,
     "metadata": {},
     "output_type": "execute_result"
    }
   ],
   "source": [
    "# reading the sales training csv file\n",
    "train_df = file_handler.read_csv(\"../data/train.csv\")\n",
    "train_df.head(10)"
   ]
  },
  {
   "cell_type": "markdown",
   "id": "c1819f95",
   "metadata": {},
   "source": [
    "## General Statistics"
   ]
  },
  {
   "cell_type": "code",
   "execution_count": 7,
   "id": "4e56cc62",
   "metadata": {},
   "outputs": [
    {
     "data": {
      "text/plain": [
       "(1115, 10)"
      ]
     },
     "execution_count": 7,
     "metadata": {},
     "output_type": "execute_result"
    }
   ],
   "source": [
    "descriptive_stats(store_df, size=True)"
   ]
  },
  {
   "cell_type": "code",
   "execution_count": 8,
   "id": "94e9ebe1",
   "metadata": {},
   "outputs": [
    {
     "data": {
      "text/plain": [
       "<bound method DataFrame.info of       Store StoreType Assortment  CompetitionDistance  \\\n",
       "0         1         c          a               1270.0   \n",
       "1         2         a          a                570.0   \n",
       "2         3         a          a              14130.0   \n",
       "3         4         c          c                620.0   \n",
       "4         5         a          a              29910.0   \n",
       "...     ...       ...        ...                  ...   \n",
       "1110   1111         a          a               1900.0   \n",
       "1111   1112         c          c               1880.0   \n",
       "1112   1113         a          c               9260.0   \n",
       "1113   1114         a          c                870.0   \n",
       "1114   1115         d          c               5350.0   \n",
       "\n",
       "      CompetitionOpenSinceMonth  CompetitionOpenSinceYear  Promo2  \\\n",
       "0                           9.0                    2008.0       0   \n",
       "1                          11.0                    2007.0       1   \n",
       "2                          12.0                    2006.0       1   \n",
       "3                           9.0                    2009.0       0   \n",
       "4                           4.0                    2015.0       0   \n",
       "...                         ...                       ...     ...   \n",
       "1110                        6.0                    2014.0       1   \n",
       "1111                        4.0                    2006.0       0   \n",
       "1112                        NaN                       NaN       0   \n",
       "1113                        NaN                       NaN       0   \n",
       "1114                        NaN                       NaN       1   \n",
       "\n",
       "      Promo2SinceWeek  Promo2SinceYear     PromoInterval  \n",
       "0                 NaN              NaN               NaN  \n",
       "1                13.0           2010.0   Jan,Apr,Jul,Oct  \n",
       "2                14.0           2011.0   Jan,Apr,Jul,Oct  \n",
       "3                 NaN              NaN               NaN  \n",
       "4                 NaN              NaN               NaN  \n",
       "...               ...              ...               ...  \n",
       "1110             31.0           2013.0   Jan,Apr,Jul,Oct  \n",
       "1111              NaN              NaN               NaN  \n",
       "1112              NaN              NaN               NaN  \n",
       "1113              NaN              NaN               NaN  \n",
       "1114             22.0           2012.0  Mar,Jun,Sept,Dec  \n",
       "\n",
       "[1115 rows x 10 columns]>"
      ]
     },
     "execution_count": 8,
     "metadata": {},
     "output_type": "execute_result"
    }
   ],
   "source": [
    "descriptive_stats(store_df, info=True)"
   ]
  },
  {
   "cell_type": "code",
   "execution_count": 9,
   "id": "44c1632e",
   "metadata": {},
   "outputs": [
    {
     "data": {
      "text/html": [
       "<div>\n",
       "<style scoped>\n",
       "    .dataframe tbody tr th:only-of-type {\n",
       "        vertical-align: middle;\n",
       "    }\n",
       "\n",
       "    .dataframe tbody tr th {\n",
       "        vertical-align: top;\n",
       "    }\n",
       "\n",
       "    .dataframe thead th {\n",
       "        text-align: right;\n",
       "    }\n",
       "</style>\n",
       "<table border=\"1\" class=\"dataframe\">\n",
       "  <thead>\n",
       "    <tr style=\"text-align: right;\">\n",
       "      <th></th>\n",
       "      <th>Store</th>\n",
       "      <th>CompetitionDistance</th>\n",
       "      <th>CompetitionOpenSinceMonth</th>\n",
       "      <th>CompetitionOpenSinceYear</th>\n",
       "      <th>Promo2</th>\n",
       "      <th>Promo2SinceWeek</th>\n",
       "      <th>Promo2SinceYear</th>\n",
       "    </tr>\n",
       "  </thead>\n",
       "  <tbody>\n",
       "    <tr>\n",
       "      <th>count</th>\n",
       "      <td>1115.00000</td>\n",
       "      <td>1112.000000</td>\n",
       "      <td>761.000000</td>\n",
       "      <td>761.000000</td>\n",
       "      <td>1115.000000</td>\n",
       "      <td>571.000000</td>\n",
       "      <td>571.000000</td>\n",
       "    </tr>\n",
       "    <tr>\n",
       "      <th>mean</th>\n",
       "      <td>558.00000</td>\n",
       "      <td>5404.901079</td>\n",
       "      <td>7.224704</td>\n",
       "      <td>2008.668857</td>\n",
       "      <td>0.512108</td>\n",
       "      <td>23.595447</td>\n",
       "      <td>2011.763573</td>\n",
       "    </tr>\n",
       "    <tr>\n",
       "      <th>std</th>\n",
       "      <td>322.01708</td>\n",
       "      <td>7663.174720</td>\n",
       "      <td>3.212348</td>\n",
       "      <td>6.195983</td>\n",
       "      <td>0.500078</td>\n",
       "      <td>14.141984</td>\n",
       "      <td>1.674935</td>\n",
       "    </tr>\n",
       "    <tr>\n",
       "      <th>min</th>\n",
       "      <td>1.00000</td>\n",
       "      <td>20.000000</td>\n",
       "      <td>1.000000</td>\n",
       "      <td>1900.000000</td>\n",
       "      <td>0.000000</td>\n",
       "      <td>1.000000</td>\n",
       "      <td>2009.000000</td>\n",
       "    </tr>\n",
       "    <tr>\n",
       "      <th>25%</th>\n",
       "      <td>279.50000</td>\n",
       "      <td>717.500000</td>\n",
       "      <td>4.000000</td>\n",
       "      <td>2006.000000</td>\n",
       "      <td>0.000000</td>\n",
       "      <td>13.000000</td>\n",
       "      <td>2011.000000</td>\n",
       "    </tr>\n",
       "    <tr>\n",
       "      <th>50%</th>\n",
       "      <td>558.00000</td>\n",
       "      <td>2325.000000</td>\n",
       "      <td>8.000000</td>\n",
       "      <td>2010.000000</td>\n",
       "      <td>1.000000</td>\n",
       "      <td>22.000000</td>\n",
       "      <td>2012.000000</td>\n",
       "    </tr>\n",
       "    <tr>\n",
       "      <th>75%</th>\n",
       "      <td>836.50000</td>\n",
       "      <td>6882.500000</td>\n",
       "      <td>10.000000</td>\n",
       "      <td>2013.000000</td>\n",
       "      <td>1.000000</td>\n",
       "      <td>37.000000</td>\n",
       "      <td>2013.000000</td>\n",
       "    </tr>\n",
       "    <tr>\n",
       "      <th>max</th>\n",
       "      <td>1115.00000</td>\n",
       "      <td>75860.000000</td>\n",
       "      <td>12.000000</td>\n",
       "      <td>2015.000000</td>\n",
       "      <td>1.000000</td>\n",
       "      <td>50.000000</td>\n",
       "      <td>2015.000000</td>\n",
       "    </tr>\n",
       "  </tbody>\n",
       "</table>\n",
       "</div>"
      ],
      "text/plain": [
       "            Store  CompetitionDistance  CompetitionOpenSinceMonth  \\\n",
       "count  1115.00000          1112.000000                 761.000000   \n",
       "mean    558.00000          5404.901079                   7.224704   \n",
       "std     322.01708          7663.174720                   3.212348   \n",
       "min       1.00000            20.000000                   1.000000   \n",
       "25%     279.50000           717.500000                   4.000000   \n",
       "50%     558.00000          2325.000000                   8.000000   \n",
       "75%     836.50000          6882.500000                  10.000000   \n",
       "max    1115.00000         75860.000000                  12.000000   \n",
       "\n",
       "       CompetitionOpenSinceYear       Promo2  Promo2SinceWeek  Promo2SinceYear  \n",
       "count                761.000000  1115.000000       571.000000       571.000000  \n",
       "mean                2008.668857     0.512108        23.595447      2011.763573  \n",
       "std                    6.195983     0.500078        14.141984         1.674935  \n",
       "min                 1900.000000     0.000000         1.000000      2009.000000  \n",
       "25%                 2006.000000     0.000000        13.000000      2011.000000  \n",
       "50%                 2010.000000     1.000000        22.000000      2012.000000  \n",
       "75%                 2013.000000     1.000000        37.000000      2013.000000  \n",
       "max                 2015.000000     1.000000        50.000000      2015.000000  "
      ]
     },
     "execution_count": 9,
     "metadata": {},
     "output_type": "execute_result"
    }
   ],
   "source": [
    "descriptive_stats(store_df, describe=True)"
   ]
  },
  {
   "cell_type": "markdown",
   "id": "d1685e99",
   "metadata": {},
   "source": [
    "### Train Dataset"
   ]
  },
  {
   "cell_type": "code",
   "execution_count": 10,
   "id": "9d23c96c",
   "metadata": {},
   "outputs": [
    {
     "data": {
      "text/plain": [
       "(1017209, 9)"
      ]
     },
     "execution_count": 10,
     "metadata": {},
     "output_type": "execute_result"
    }
   ],
   "source": [
    "descriptive_stats(train_df, size=True)"
   ]
  },
  {
   "cell_type": "code",
   "execution_count": 11,
   "id": "f35e7fde",
   "metadata": {},
   "outputs": [
    {
     "data": {
      "text/plain": [
       "<bound method DataFrame.info of          Store  DayOfWeek        Date  Sales  Customers  Open  Promo  \\\n",
       "0            1          5  2015-07-31   5263        555     1      1   \n",
       "1            2          5  2015-07-31   6064        625     1      1   \n",
       "2            3          5  2015-07-31   8314        821     1      1   \n",
       "3            4          5  2015-07-31  13995       1498     1      1   \n",
       "4            5          5  2015-07-31   4822        559     1      1   \n",
       "...        ...        ...         ...    ...        ...   ...    ...   \n",
       "1017204   1111          2  2013-01-01      0          0     0      0   \n",
       "1017205   1112          2  2013-01-01      0          0     0      0   \n",
       "1017206   1113          2  2013-01-01      0          0     0      0   \n",
       "1017207   1114          2  2013-01-01      0          0     0      0   \n",
       "1017208   1115          2  2013-01-01      0          0     0      0   \n",
       "\n",
       "        StateHoliday  SchoolHoliday  \n",
       "0                  0              1  \n",
       "1                  0              1  \n",
       "2                  0              1  \n",
       "3                  0              1  \n",
       "4                  0              1  \n",
       "...              ...            ...  \n",
       "1017204            a              1  \n",
       "1017205            a              1  \n",
       "1017206            a              1  \n",
       "1017207            a              1  \n",
       "1017208            a              1  \n",
       "\n",
       "[1017209 rows x 9 columns]>"
      ]
     },
     "execution_count": 11,
     "metadata": {},
     "output_type": "execute_result"
    }
   ],
   "source": [
    "descriptive_stats(train_df, info=True)"
   ]
  },
  {
   "cell_type": "code",
   "execution_count": 12,
   "id": "3d9693a9",
   "metadata": {},
   "outputs": [
    {
     "data": {
      "text/html": [
       "<div>\n",
       "<style scoped>\n",
       "    .dataframe tbody tr th:only-of-type {\n",
       "        vertical-align: middle;\n",
       "    }\n",
       "\n",
       "    .dataframe tbody tr th {\n",
       "        vertical-align: top;\n",
       "    }\n",
       "\n",
       "    .dataframe thead th {\n",
       "        text-align: right;\n",
       "    }\n",
       "</style>\n",
       "<table border=\"1\" class=\"dataframe\">\n",
       "  <thead>\n",
       "    <tr style=\"text-align: right;\">\n",
       "      <th></th>\n",
       "      <th>Store</th>\n",
       "      <th>DayOfWeek</th>\n",
       "      <th>Sales</th>\n",
       "      <th>Customers</th>\n",
       "      <th>Open</th>\n",
       "      <th>Promo</th>\n",
       "      <th>SchoolHoliday</th>\n",
       "    </tr>\n",
       "  </thead>\n",
       "  <tbody>\n",
       "    <tr>\n",
       "      <th>count</th>\n",
       "      <td>1.017209e+06</td>\n",
       "      <td>1.017209e+06</td>\n",
       "      <td>1.017209e+06</td>\n",
       "      <td>1.017209e+06</td>\n",
       "      <td>1.017209e+06</td>\n",
       "      <td>1.017209e+06</td>\n",
       "      <td>1.017209e+06</td>\n",
       "    </tr>\n",
       "    <tr>\n",
       "      <th>mean</th>\n",
       "      <td>5.584297e+02</td>\n",
       "      <td>3.998341e+00</td>\n",
       "      <td>5.773819e+03</td>\n",
       "      <td>6.331459e+02</td>\n",
       "      <td>8.301067e-01</td>\n",
       "      <td>3.815145e-01</td>\n",
       "      <td>1.786467e-01</td>\n",
       "    </tr>\n",
       "    <tr>\n",
       "      <th>std</th>\n",
       "      <td>3.219087e+02</td>\n",
       "      <td>1.997391e+00</td>\n",
       "      <td>3.849926e+03</td>\n",
       "      <td>4.644117e+02</td>\n",
       "      <td>3.755392e-01</td>\n",
       "      <td>4.857586e-01</td>\n",
       "      <td>3.830564e-01</td>\n",
       "    </tr>\n",
       "    <tr>\n",
       "      <th>min</th>\n",
       "      <td>1.000000e+00</td>\n",
       "      <td>1.000000e+00</td>\n",
       "      <td>0.000000e+00</td>\n",
       "      <td>0.000000e+00</td>\n",
       "      <td>0.000000e+00</td>\n",
       "      <td>0.000000e+00</td>\n",
       "      <td>0.000000e+00</td>\n",
       "    </tr>\n",
       "    <tr>\n",
       "      <th>25%</th>\n",
       "      <td>2.800000e+02</td>\n",
       "      <td>2.000000e+00</td>\n",
       "      <td>3.727000e+03</td>\n",
       "      <td>4.050000e+02</td>\n",
       "      <td>1.000000e+00</td>\n",
       "      <td>0.000000e+00</td>\n",
       "      <td>0.000000e+00</td>\n",
       "    </tr>\n",
       "    <tr>\n",
       "      <th>50%</th>\n",
       "      <td>5.580000e+02</td>\n",
       "      <td>4.000000e+00</td>\n",
       "      <td>5.744000e+03</td>\n",
       "      <td>6.090000e+02</td>\n",
       "      <td>1.000000e+00</td>\n",
       "      <td>0.000000e+00</td>\n",
       "      <td>0.000000e+00</td>\n",
       "    </tr>\n",
       "    <tr>\n",
       "      <th>75%</th>\n",
       "      <td>8.380000e+02</td>\n",
       "      <td>6.000000e+00</td>\n",
       "      <td>7.856000e+03</td>\n",
       "      <td>8.370000e+02</td>\n",
       "      <td>1.000000e+00</td>\n",
       "      <td>1.000000e+00</td>\n",
       "      <td>0.000000e+00</td>\n",
       "    </tr>\n",
       "    <tr>\n",
       "      <th>max</th>\n",
       "      <td>1.115000e+03</td>\n",
       "      <td>7.000000e+00</td>\n",
       "      <td>4.155100e+04</td>\n",
       "      <td>7.388000e+03</td>\n",
       "      <td>1.000000e+00</td>\n",
       "      <td>1.000000e+00</td>\n",
       "      <td>1.000000e+00</td>\n",
       "    </tr>\n",
       "  </tbody>\n",
       "</table>\n",
       "</div>"
      ],
      "text/plain": [
       "              Store     DayOfWeek         Sales     Customers          Open  \\\n",
       "count  1.017209e+06  1.017209e+06  1.017209e+06  1.017209e+06  1.017209e+06   \n",
       "mean   5.584297e+02  3.998341e+00  5.773819e+03  6.331459e+02  8.301067e-01   \n",
       "std    3.219087e+02  1.997391e+00  3.849926e+03  4.644117e+02  3.755392e-01   \n",
       "min    1.000000e+00  1.000000e+00  0.000000e+00  0.000000e+00  0.000000e+00   \n",
       "25%    2.800000e+02  2.000000e+00  3.727000e+03  4.050000e+02  1.000000e+00   \n",
       "50%    5.580000e+02  4.000000e+00  5.744000e+03  6.090000e+02  1.000000e+00   \n",
       "75%    8.380000e+02  6.000000e+00  7.856000e+03  8.370000e+02  1.000000e+00   \n",
       "max    1.115000e+03  7.000000e+00  4.155100e+04  7.388000e+03  1.000000e+00   \n",
       "\n",
       "              Promo  SchoolHoliday  \n",
       "count  1.017209e+06   1.017209e+06  \n",
       "mean   3.815145e-01   1.786467e-01  \n",
       "std    4.857586e-01   3.830564e-01  \n",
       "min    0.000000e+00   0.000000e+00  \n",
       "25%    0.000000e+00   0.000000e+00  \n",
       "50%    0.000000e+00   0.000000e+00  \n",
       "75%    1.000000e+00   0.000000e+00  \n",
       "max    1.000000e+00   1.000000e+00  "
      ]
     },
     "execution_count": 12,
     "metadata": {},
     "output_type": "execute_result"
    }
   ],
   "source": [
    "descriptive_stats(train_df, describe=True)"
   ]
  },
  {
   "cell_type": "markdown",
   "id": "dd89af74",
   "metadata": {},
   "source": [
    "## Handling missing values"
   ]
  },
  {
   "cell_type": "markdown",
   "id": "ac1ce5e4",
   "metadata": {},
   "source": [
    "### Store dataset"
   ]
  },
  {
   "cell_type": "code",
   "execution_count": 13,
   "id": "509a1be3",
   "metadata": {},
   "outputs": [
    {
     "name": "stdout",
     "output_type": "stream",
     "text": [
      "The dataset contains 21.01 % missing values.\n"
     ]
    }
   ],
   "source": [
    "percent_missing_values(store_df)"
   ]
  },
  {
   "cell_type": "code",
   "execution_count": 14,
   "id": "356102a3",
   "metadata": {},
   "outputs": [
    {
     "name": "stdout",
     "output_type": "stream",
     "text": [
      "Your selected dataframe has 10 columns.\n",
      "There are 6 columns that have missing values.\n"
     ]
    }
   ],
   "source": [
    "missing_df = missing_values_table(store_df)"
   ]
  },
  {
   "cell_type": "code",
   "execution_count": 15,
   "id": "b09e3a6f",
   "metadata": {},
   "outputs": [
    {
     "data": {
      "text/html": [
       "<div>\n",
       "<style scoped>\n",
       "    .dataframe tbody tr th:only-of-type {\n",
       "        vertical-align: middle;\n",
       "    }\n",
       "\n",
       "    .dataframe tbody tr th {\n",
       "        vertical-align: top;\n",
       "    }\n",
       "\n",
       "    .dataframe thead th {\n",
       "        text-align: right;\n",
       "    }\n",
       "</style>\n",
       "<table border=\"1\" class=\"dataframe\">\n",
       "  <thead>\n",
       "    <tr style=\"text-align: right;\">\n",
       "      <th></th>\n",
       "      <th>Missing Values</th>\n",
       "      <th>% of Total Values</th>\n",
       "      <th>Dtype</th>\n",
       "    </tr>\n",
       "  </thead>\n",
       "  <tbody>\n",
       "    <tr>\n",
       "      <th>Promo2SinceWeek</th>\n",
       "      <td>544</td>\n",
       "      <td>48.79</td>\n",
       "      <td>float64</td>\n",
       "    </tr>\n",
       "    <tr>\n",
       "      <th>Promo2SinceYear</th>\n",
       "      <td>544</td>\n",
       "      <td>48.79</td>\n",
       "      <td>float64</td>\n",
       "    </tr>\n",
       "    <tr>\n",
       "      <th>PromoInterval</th>\n",
       "      <td>544</td>\n",
       "      <td>48.79</td>\n",
       "      <td>object</td>\n",
       "    </tr>\n",
       "    <tr>\n",
       "      <th>CompetitionOpenSinceMonth</th>\n",
       "      <td>354</td>\n",
       "      <td>31.75</td>\n",
       "      <td>float64</td>\n",
       "    </tr>\n",
       "    <tr>\n",
       "      <th>CompetitionOpenSinceYear</th>\n",
       "      <td>354</td>\n",
       "      <td>31.75</td>\n",
       "      <td>float64</td>\n",
       "    </tr>\n",
       "    <tr>\n",
       "      <th>CompetitionDistance</th>\n",
       "      <td>3</td>\n",
       "      <td>0.27</td>\n",
       "      <td>float64</td>\n",
       "    </tr>\n",
       "  </tbody>\n",
       "</table>\n",
       "</div>"
      ],
      "text/plain": [
       "                           Missing Values  % of Total Values    Dtype\n",
       "Promo2SinceWeek                       544              48.79  float64\n",
       "Promo2SinceYear                       544              48.79  float64\n",
       "PromoInterval                         544              48.79   object\n",
       "CompetitionOpenSinceMonth             354              31.75  float64\n",
       "CompetitionOpenSinceYear              354              31.75  float64\n",
       "CompetitionDistance                     3               0.27  float64"
      ]
     },
     "execution_count": 15,
     "metadata": {},
     "output_type": "execute_result"
    }
   ],
   "source": [
    "missing_df"
   ]
  },
  {
   "cell_type": "markdown",
   "id": "bd50527b",
   "metadata": {},
   "source": [
    " It shows that the first 3 columns and the next 2 columns have the same number of missing values. "
   ]
  },
  {
   "cell_type": "code",
   "execution_count": 16,
   "id": "ee55841c",
   "metadata": {},
   "outputs": [
    {
     "name": "stdout",
     "output_type": "stream",
     "text": [
      "750 rows(67.26%) contain atleast one missing value.\n"
     ]
    }
   ],
   "source": [
    "# number of rows with missing values for the whole dataset\n",
    "count_missing_rows(store_df)"
   ]
  },
  {
   "cell_type": "code",
   "execution_count": 17,
   "id": "581322b8",
   "metadata": {},
   "outputs": [
    {
     "name": "stdout",
     "output_type": "stream",
     "text": [
      "544 rows(48.79%) contain atleast one missing value.\n"
     ]
    }
   ],
   "source": [
    "# number of rows with missing values for Promo2SinceWeek, Promo2SinceYear, and PromoInterval\n",
    "count_missing_rows(store_df[['Promo2SinceWeek', 'Promo2SinceYear', 'PromoInterval']])"
   ]
  },
  {
   "cell_type": "code",
   "execution_count": 18,
   "id": "3c41aca9",
   "metadata": {},
   "outputs": [
    {
     "name": "stdout",
     "output_type": "stream",
     "text": [
      "354 rows(31.75%) contain atleast one missing value.\n"
     ]
    }
   ],
   "source": [
    "# number of rows with missing values for group 2 (CompetitionOpenSinceMonth, and CompetitionOpenSinceYear)\n",
    "count_missing_rows(store_df[['CompetitionOpenSinceMonth', 'CompetitionOpenSinceYear']])"
   ]
  },
  {
   "cell_type": "markdown",
   "id": "b3fabb06",
   "metadata": {},
   "source": [
    "Each columuns in these groups have missing values in the same rows as their groupmates. These means the missing values in these groups appear at the same time as a cluster. Therefore, the values of the columns in each group share a common information."
   ]
  },
  {
   "cell_type": "code",
   "execution_count": 19,
   "id": "9a631795",
   "metadata": {},
   "outputs": [
    {
     "data": {
      "text/html": [
       "<div>\n",
       "<style scoped>\n",
       "    .dataframe tbody tr th:only-of-type {\n",
       "        vertical-align: middle;\n",
       "    }\n",
       "\n",
       "    .dataframe tbody tr th {\n",
       "        vertical-align: top;\n",
       "    }\n",
       "\n",
       "    .dataframe thead th {\n",
       "        text-align: right;\n",
       "    }\n",
       "</style>\n",
       "<table border=\"1\" class=\"dataframe\">\n",
       "  <thead>\n",
       "    <tr style=\"text-align: right;\">\n",
       "      <th></th>\n",
       "      <th>Store</th>\n",
       "      <th>StoreType</th>\n",
       "      <th>Assortment</th>\n",
       "      <th>CompetitionDistance</th>\n",
       "      <th>CompetitionOpenSinceMonth</th>\n",
       "      <th>CompetitionOpenSinceYear</th>\n",
       "      <th>Promo2</th>\n",
       "      <th>Promo2SinceWeek</th>\n",
       "      <th>Promo2SinceYear</th>\n",
       "      <th>PromoInterval</th>\n",
       "    </tr>\n",
       "  </thead>\n",
       "  <tbody>\n",
       "    <tr>\n",
       "      <th>0</th>\n",
       "      <td>1</td>\n",
       "      <td>c</td>\n",
       "      <td>a</td>\n",
       "      <td>1270.0</td>\n",
       "      <td>9.0</td>\n",
       "      <td>2008.0</td>\n",
       "      <td>0</td>\n",
       "      <td>NaN</td>\n",
       "      <td>NaN</td>\n",
       "      <td>NaN</td>\n",
       "    </tr>\n",
       "    <tr>\n",
       "      <th>3</th>\n",
       "      <td>4</td>\n",
       "      <td>c</td>\n",
       "      <td>c</td>\n",
       "      <td>620.0</td>\n",
       "      <td>9.0</td>\n",
       "      <td>2009.0</td>\n",
       "      <td>0</td>\n",
       "      <td>NaN</td>\n",
       "      <td>NaN</td>\n",
       "      <td>NaN</td>\n",
       "    </tr>\n",
       "    <tr>\n",
       "      <th>4</th>\n",
       "      <td>5</td>\n",
       "      <td>a</td>\n",
       "      <td>a</td>\n",
       "      <td>29910.0</td>\n",
       "      <td>4.0</td>\n",
       "      <td>2015.0</td>\n",
       "      <td>0</td>\n",
       "      <td>NaN</td>\n",
       "      <td>NaN</td>\n",
       "      <td>NaN</td>\n",
       "    </tr>\n",
       "    <tr>\n",
       "      <th>5</th>\n",
       "      <td>6</td>\n",
       "      <td>a</td>\n",
       "      <td>a</td>\n",
       "      <td>310.0</td>\n",
       "      <td>12.0</td>\n",
       "      <td>2013.0</td>\n",
       "      <td>0</td>\n",
       "      <td>NaN</td>\n",
       "      <td>NaN</td>\n",
       "      <td>NaN</td>\n",
       "    </tr>\n",
       "    <tr>\n",
       "      <th>6</th>\n",
       "      <td>7</td>\n",
       "      <td>a</td>\n",
       "      <td>c</td>\n",
       "      <td>24000.0</td>\n",
       "      <td>4.0</td>\n",
       "      <td>2013.0</td>\n",
       "      <td>0</td>\n",
       "      <td>NaN</td>\n",
       "      <td>NaN</td>\n",
       "      <td>NaN</td>\n",
       "    </tr>\n",
       "    <tr>\n",
       "      <th>7</th>\n",
       "      <td>8</td>\n",
       "      <td>a</td>\n",
       "      <td>a</td>\n",
       "      <td>7520.0</td>\n",
       "      <td>10.0</td>\n",
       "      <td>2014.0</td>\n",
       "      <td>0</td>\n",
       "      <td>NaN</td>\n",
       "      <td>NaN</td>\n",
       "      <td>NaN</td>\n",
       "    </tr>\n",
       "    <tr>\n",
       "      <th>8</th>\n",
       "      <td>9</td>\n",
       "      <td>a</td>\n",
       "      <td>c</td>\n",
       "      <td>2030.0</td>\n",
       "      <td>8.0</td>\n",
       "      <td>2000.0</td>\n",
       "      <td>0</td>\n",
       "      <td>NaN</td>\n",
       "      <td>NaN</td>\n",
       "      <td>NaN</td>\n",
       "    </tr>\n",
       "    <tr>\n",
       "      <th>9</th>\n",
       "      <td>10</td>\n",
       "      <td>a</td>\n",
       "      <td>a</td>\n",
       "      <td>3160.0</td>\n",
       "      <td>9.0</td>\n",
       "      <td>2009.0</td>\n",
       "      <td>0</td>\n",
       "      <td>NaN</td>\n",
       "      <td>NaN</td>\n",
       "      <td>NaN</td>\n",
       "    </tr>\n",
       "    <tr>\n",
       "      <th>15</th>\n",
       "      <td>16</td>\n",
       "      <td>a</td>\n",
       "      <td>c</td>\n",
       "      <td>3270.0</td>\n",
       "      <td>NaN</td>\n",
       "      <td>NaN</td>\n",
       "      <td>0</td>\n",
       "      <td>NaN</td>\n",
       "      <td>NaN</td>\n",
       "      <td>NaN</td>\n",
       "    </tr>\n",
       "    <tr>\n",
       "      <th>22</th>\n",
       "      <td>23</td>\n",
       "      <td>d</td>\n",
       "      <td>a</td>\n",
       "      <td>4060.0</td>\n",
       "      <td>8.0</td>\n",
       "      <td>2005.0</td>\n",
       "      <td>0</td>\n",
       "      <td>NaN</td>\n",
       "      <td>NaN</td>\n",
       "      <td>NaN</td>\n",
       "    </tr>\n",
       "  </tbody>\n",
       "</table>\n",
       "</div>"
      ],
      "text/plain": [
       "    Store StoreType Assortment  CompetitionDistance  \\\n",
       "0       1         c          a               1270.0   \n",
       "3       4         c          c                620.0   \n",
       "4       5         a          a              29910.0   \n",
       "5       6         a          a                310.0   \n",
       "6       7         a          c              24000.0   \n",
       "7       8         a          a               7520.0   \n",
       "8       9         a          c               2030.0   \n",
       "9      10         a          a               3160.0   \n",
       "15     16         a          c               3270.0   \n",
       "22     23         d          a               4060.0   \n",
       "\n",
       "    CompetitionOpenSinceMonth  CompetitionOpenSinceYear  Promo2  \\\n",
       "0                         9.0                    2008.0       0   \n",
       "3                         9.0                    2009.0       0   \n",
       "4                         4.0                    2015.0       0   \n",
       "5                        12.0                    2013.0       0   \n",
       "6                         4.0                    2013.0       0   \n",
       "7                        10.0                    2014.0       0   \n",
       "8                         8.0                    2000.0       0   \n",
       "9                         9.0                    2009.0       0   \n",
       "15                        NaN                       NaN       0   \n",
       "22                        8.0                    2005.0       0   \n",
       "\n",
       "    Promo2SinceWeek  Promo2SinceYear PromoInterval  \n",
       "0               NaN              NaN           NaN  \n",
       "3               NaN              NaN           NaN  \n",
       "4               NaN              NaN           NaN  \n",
       "5               NaN              NaN           NaN  \n",
       "6               NaN              NaN           NaN  \n",
       "7               NaN              NaN           NaN  \n",
       "8               NaN              NaN           NaN  \n",
       "9               NaN              NaN           NaN  \n",
       "15              NaN              NaN           NaN  \n",
       "22              NaN              NaN           NaN  "
      ]
     },
     "execution_count": 19,
     "metadata": {},
     "output_type": "execute_result"
    }
   ],
   "source": [
    "# dataframe containing the missing rows for columns in group 1\n",
    "group1_df = store_df[store_df['Promo2SinceWeek'].isna()]\n",
    "group1_df.head(10)"
   ]
  },
  {
   "cell_type": "markdown",
   "id": "0202b93a",
   "metadata": {},
   "source": [
    "We can see that the Promo2 column is 0 for the first 10 rows. From intution we can infer that if there is no promotion the values for the columns in Promo2SinceWeek, Promo2SinceYear, and PromoInterval should be null."
   ]
  },
  {
   "cell_type": "markdown",
   "id": "168512fc",
   "metadata": {},
   "source": [
    "Therefore, we can impute the missing values in the columns Promo2SinceWeek and Promo2SinceYear with 0 to convey the meaning of absence since year and week can't be 0. But as for PromoInterval further investigation is needed since its data type is object."
   ]
  },
  {
   "cell_type": "code",
   "execution_count": 20,
   "id": "4f0dc446",
   "metadata": {},
   "outputs": [
    {
     "data": {
      "text/plain": [
       "'string'"
      ]
     },
     "execution_count": 20,
     "metadata": {},
     "output_type": "execute_result"
    }
   ],
   "source": [
    "# check the exact data type of the object\n",
    "pd.api.types.infer_dtype(store_df['PromoInterval'])"
   ]
  },
  {
   "cell_type": "code",
   "execution_count": 21,
   "id": "4c5b9432",
   "metadata": {},
   "outputs": [
    {
     "data": {
      "text/plain": [
       "Jan,Apr,Jul,Oct     335\n",
       "Feb,May,Aug,Nov     130\n",
       "Mar,Jun,Sept,Dec    106\n",
       "Name: PromoInterval, dtype: int64"
      ]
     },
     "execution_count": 21,
     "metadata": {},
     "output_type": "execute_result"
    }
   ],
   "source": [
    "# all the unique values \n",
    "store_df['PromoInterval'].value_counts()"
   ]
  },
  {
   "cell_type": "markdown",
   "id": "b1a26fe4",
   "metadata": {},
   "source": [
    "For the column PromoInterval, we will impute it with '0,0,0,0' as the other values follow list-type format containing four months. So inorder to impute these columns we should first investigate if the values we will insert exist in each column as this will oppose our intention."
   ]
  },
  {
   "cell_type": "code",
   "execution_count": 22,
   "id": "8aaea7b7",
   "metadata": {},
   "outputs": [
    {
     "data": {
      "text/plain": [
       "(0, 10)"
      ]
     },
     "execution_count": 22,
     "metadata": {},
     "output_type": "execute_result"
    }
   ],
   "source": [
    "store_df[store_df['Promo2SinceWeek'] == 0].shape"
   ]
  },
  {
   "cell_type": "code",
   "execution_count": 23,
   "id": "f8ef1309",
   "metadata": {},
   "outputs": [
    {
     "data": {
      "text/plain": [
       "(0, 10)"
      ]
     },
     "execution_count": 23,
     "metadata": {},
     "output_type": "execute_result"
    }
   ],
   "source": [
    "store_df[store_df['Promo2SinceYear'] == 0].shape"
   ]
  },
  {
   "cell_type": "code",
   "execution_count": 24,
   "id": "7dfff65e",
   "metadata": {},
   "outputs": [
    {
     "data": {
      "text/plain": [
       "(0, 10)"
      ]
     },
     "execution_count": 24,
     "metadata": {},
     "output_type": "execute_result"
    }
   ],
   "source": [
    "store_df[store_df['PromoInterval'] == '0,0,0,0'].shape"
   ]
  },
  {
   "cell_type": "markdown",
   "id": "aa025355",
   "metadata": {},
   "source": [
    "Since the values don't appear in these columns, let's fill the missing values by '0'."
   ]
  },
  {
   "cell_type": "code",
   "execution_count": 25,
   "id": "1ffe20fe",
   "metadata": {},
   "outputs": [
    {
     "name": "stdout",
     "output_type": "stream",
     "text": [
      "544 missing values in the column Promo2SinceWeek have been replaced by 0.\n",
      "544 missing values in the column Promo2SinceYear have been replaced by 0.\n"
     ]
    }
   ],
   "source": [
    "fix_missing_value(store_df, ['Promo2SinceWeek', 'Promo2SinceYear'], 0)"
   ]
  },
  {
   "cell_type": "code",
   "execution_count": 26,
   "id": "659059a0",
   "metadata": {},
   "outputs": [
    {
     "name": "stdout",
     "output_type": "stream",
     "text": [
      "544 missing values in the column PromoInterval have been replaced by 0,0,0,0.\n"
     ]
    }
   ],
   "source": [
    "fix_missing_value(store_df, ['PromoInterval'], '0,0,0,0')"
   ]
  },
  {
   "cell_type": "code",
   "execution_count": 27,
   "id": "6506cf07",
   "metadata": {},
   "outputs": [
    {
     "data": {
      "text/html": [
       "<div>\n",
       "<style scoped>\n",
       "    .dataframe tbody tr th:only-of-type {\n",
       "        vertical-align: middle;\n",
       "    }\n",
       "\n",
       "    .dataframe tbody tr th {\n",
       "        vertical-align: top;\n",
       "    }\n",
       "\n",
       "    .dataframe thead th {\n",
       "        text-align: right;\n",
       "    }\n",
       "</style>\n",
       "<table border=\"1\" class=\"dataframe\">\n",
       "  <thead>\n",
       "    <tr style=\"text-align: right;\">\n",
       "      <th></th>\n",
       "      <th>Store</th>\n",
       "      <th>StoreType</th>\n",
       "      <th>Assortment</th>\n",
       "      <th>CompetitionDistance</th>\n",
       "      <th>CompetitionOpenSinceMonth</th>\n",
       "      <th>CompetitionOpenSinceYear</th>\n",
       "      <th>Promo2</th>\n",
       "      <th>Promo2SinceWeek</th>\n",
       "      <th>Promo2SinceYear</th>\n",
       "      <th>PromoInterval</th>\n",
       "    </tr>\n",
       "  </thead>\n",
       "  <tbody>\n",
       "    <tr>\n",
       "      <th>11</th>\n",
       "      <td>12</td>\n",
       "      <td>a</td>\n",
       "      <td>c</td>\n",
       "      <td>1070.0</td>\n",
       "      <td>NaN</td>\n",
       "      <td>NaN</td>\n",
       "      <td>1</td>\n",
       "      <td>13.0</td>\n",
       "      <td>2010.0</td>\n",
       "      <td>Jan,Apr,Jul,Oct</td>\n",
       "    </tr>\n",
       "    <tr>\n",
       "      <th>12</th>\n",
       "      <td>13</td>\n",
       "      <td>d</td>\n",
       "      <td>a</td>\n",
       "      <td>310.0</td>\n",
       "      <td>NaN</td>\n",
       "      <td>NaN</td>\n",
       "      <td>1</td>\n",
       "      <td>45.0</td>\n",
       "      <td>2009.0</td>\n",
       "      <td>Feb,May,Aug,Nov</td>\n",
       "    </tr>\n",
       "    <tr>\n",
       "      <th>15</th>\n",
       "      <td>16</td>\n",
       "      <td>a</td>\n",
       "      <td>c</td>\n",
       "      <td>3270.0</td>\n",
       "      <td>NaN</td>\n",
       "      <td>NaN</td>\n",
       "      <td>0</td>\n",
       "      <td>0.0</td>\n",
       "      <td>0.0</td>\n",
       "      <td>0,0,0,0</td>\n",
       "    </tr>\n",
       "    <tr>\n",
       "      <th>18</th>\n",
       "      <td>19</td>\n",
       "      <td>a</td>\n",
       "      <td>c</td>\n",
       "      <td>3240.0</td>\n",
       "      <td>NaN</td>\n",
       "      <td>NaN</td>\n",
       "      <td>1</td>\n",
       "      <td>22.0</td>\n",
       "      <td>2011.0</td>\n",
       "      <td>Mar,Jun,Sept,Dec</td>\n",
       "    </tr>\n",
       "    <tr>\n",
       "      <th>21</th>\n",
       "      <td>22</td>\n",
       "      <td>a</td>\n",
       "      <td>a</td>\n",
       "      <td>1040.0</td>\n",
       "      <td>NaN</td>\n",
       "      <td>NaN</td>\n",
       "      <td>1</td>\n",
       "      <td>22.0</td>\n",
       "      <td>2012.0</td>\n",
       "      <td>Jan,Apr,Jul,Oct</td>\n",
       "    </tr>\n",
       "    <tr>\n",
       "      <th>25</th>\n",
       "      <td>26</td>\n",
       "      <td>d</td>\n",
       "      <td>a</td>\n",
       "      <td>2300.0</td>\n",
       "      <td>NaN</td>\n",
       "      <td>NaN</td>\n",
       "      <td>0</td>\n",
       "      <td>0.0</td>\n",
       "      <td>0.0</td>\n",
       "      <td>0,0,0,0</td>\n",
       "    </tr>\n",
       "    <tr>\n",
       "      <th>28</th>\n",
       "      <td>29</td>\n",
       "      <td>d</td>\n",
       "      <td>c</td>\n",
       "      <td>2170.0</td>\n",
       "      <td>NaN</td>\n",
       "      <td>NaN</td>\n",
       "      <td>0</td>\n",
       "      <td>0.0</td>\n",
       "      <td>0.0</td>\n",
       "      <td>0,0,0,0</td>\n",
       "    </tr>\n",
       "    <tr>\n",
       "      <th>31</th>\n",
       "      <td>32</td>\n",
       "      <td>a</td>\n",
       "      <td>a</td>\n",
       "      <td>2910.0</td>\n",
       "      <td>NaN</td>\n",
       "      <td>NaN</td>\n",
       "      <td>1</td>\n",
       "      <td>45.0</td>\n",
       "      <td>2009.0</td>\n",
       "      <td>Feb,May,Aug,Nov</td>\n",
       "    </tr>\n",
       "    <tr>\n",
       "      <th>39</th>\n",
       "      <td>40</td>\n",
       "      <td>a</td>\n",
       "      <td>a</td>\n",
       "      <td>180.0</td>\n",
       "      <td>NaN</td>\n",
       "      <td>NaN</td>\n",
       "      <td>1</td>\n",
       "      <td>45.0</td>\n",
       "      <td>2009.0</td>\n",
       "      <td>Feb,May,Aug,Nov</td>\n",
       "    </tr>\n",
       "    <tr>\n",
       "      <th>40</th>\n",
       "      <td>41</td>\n",
       "      <td>d</td>\n",
       "      <td>c</td>\n",
       "      <td>1180.0</td>\n",
       "      <td>NaN</td>\n",
       "      <td>NaN</td>\n",
       "      <td>1</td>\n",
       "      <td>31.0</td>\n",
       "      <td>2013.0</td>\n",
       "      <td>Jan,Apr,Jul,Oct</td>\n",
       "    </tr>\n",
       "  </tbody>\n",
       "</table>\n",
       "</div>"
      ],
      "text/plain": [
       "    Store StoreType Assortment  CompetitionDistance  \\\n",
       "11     12         a          c               1070.0   \n",
       "12     13         d          a                310.0   \n",
       "15     16         a          c               3270.0   \n",
       "18     19         a          c               3240.0   \n",
       "21     22         a          a               1040.0   \n",
       "25     26         d          a               2300.0   \n",
       "28     29         d          c               2170.0   \n",
       "31     32         a          a               2910.0   \n",
       "39     40         a          a                180.0   \n",
       "40     41         d          c               1180.0   \n",
       "\n",
       "    CompetitionOpenSinceMonth  CompetitionOpenSinceYear  Promo2  \\\n",
       "11                        NaN                       NaN       1   \n",
       "12                        NaN                       NaN       1   \n",
       "15                        NaN                       NaN       0   \n",
       "18                        NaN                       NaN       1   \n",
       "21                        NaN                       NaN       1   \n",
       "25                        NaN                       NaN       0   \n",
       "28                        NaN                       NaN       0   \n",
       "31                        NaN                       NaN       1   \n",
       "39                        NaN                       NaN       1   \n",
       "40                        NaN                       NaN       1   \n",
       "\n",
       "    Promo2SinceWeek  Promo2SinceYear     PromoInterval  \n",
       "11             13.0           2010.0   Jan,Apr,Jul,Oct  \n",
       "12             45.0           2009.0   Feb,May,Aug,Nov  \n",
       "15              0.0              0.0           0,0,0,0  \n",
       "18             22.0           2011.0  Mar,Jun,Sept,Dec  \n",
       "21             22.0           2012.0   Jan,Apr,Jul,Oct  \n",
       "25              0.0              0.0           0,0,0,0  \n",
       "28              0.0              0.0           0,0,0,0  \n",
       "31             45.0           2009.0   Feb,May,Aug,Nov  \n",
       "39             45.0           2009.0   Feb,May,Aug,Nov  \n",
       "40             31.0           2013.0   Jan,Apr,Jul,Oct  "
      ]
     },
     "execution_count": 27,
     "metadata": {},
     "output_type": "execute_result"
    }
   ],
   "source": [
    "# dataframe containing the missing rows for columns in the second group\n",
    "group2_df = store_df[store_df['CompetitionOpenSinceMonth'].isna()]\n",
    "group2_df.head(10)"
   ]
  },
  {
   "cell_type": "code",
   "execution_count": 28,
   "id": "42856232",
   "metadata": {},
   "outputs": [
    {
     "data": {
      "text/html": [
       "<div>\n",
       "<style scoped>\n",
       "    .dataframe tbody tr th:only-of-type {\n",
       "        vertical-align: middle;\n",
       "    }\n",
       "\n",
       "    .dataframe tbody tr th {\n",
       "        vertical-align: top;\n",
       "    }\n",
       "\n",
       "    .dataframe thead th {\n",
       "        text-align: right;\n",
       "    }\n",
       "</style>\n",
       "<table border=\"1\" class=\"dataframe\">\n",
       "  <thead>\n",
       "    <tr style=\"text-align: right;\">\n",
       "      <th></th>\n",
       "      <th>Column</th>\n",
       "      <th>Unique values</th>\n",
       "    </tr>\n",
       "  </thead>\n",
       "  <tbody>\n",
       "    <tr>\n",
       "      <th>0</th>\n",
       "      <td>Store</td>\n",
       "      <td>[12, 853, 767, 766, 764, 762, 757, 756, 742, 7...</td>\n",
       "    </tr>\n",
       "    <tr>\n",
       "      <th>1</th>\n",
       "      <td>StoreType</td>\n",
       "      <td>[a, d, c, b]</td>\n",
       "    </tr>\n",
       "    <tr>\n",
       "      <th>2</th>\n",
       "      <td>Assortment</td>\n",
       "      <td>[c, a, b]</td>\n",
       "    </tr>\n",
       "    <tr>\n",
       "      <th>3</th>\n",
       "      <td>CompetitionDistance</td>\n",
       "      <td>[250.0, 2410.0, 50.0, 210.0, 840.0, 220.0, 150...</td>\n",
       "    </tr>\n",
       "    <tr>\n",
       "      <th>4</th>\n",
       "      <td>CompetitionOpenSinceMonth</td>\n",
       "      <td>[]</td>\n",
       "    </tr>\n",
       "    <tr>\n",
       "      <th>5</th>\n",
       "      <td>CompetitionOpenSinceYear</td>\n",
       "      <td>[]</td>\n",
       "    </tr>\n",
       "    <tr>\n",
       "      <th>6</th>\n",
       "      <td>Promo2</td>\n",
       "      <td>[1, 0]</td>\n",
       "    </tr>\n",
       "    <tr>\n",
       "      <th>7</th>\n",
       "      <td>Promo2SinceWeek</td>\n",
       "      <td>[0.0, 40.0, 14.0, 45.0, 31.0, 22.0, 5.0, 1.0, ...</td>\n",
       "    </tr>\n",
       "    <tr>\n",
       "      <th>8</th>\n",
       "      <td>Promo2SinceYear</td>\n",
       "      <td>[0.0, 2013.0, 2011.0, 2009.0, 2012.0, 2014.0, ...</td>\n",
       "    </tr>\n",
       "    <tr>\n",
       "      <th>9</th>\n",
       "      <td>PromoInterval</td>\n",
       "      <td>[0,0,0,0, Jan,Apr,Jul,Oct, Feb,May,Aug,Nov, Ma...</td>\n",
       "    </tr>\n",
       "  </tbody>\n",
       "</table>\n",
       "</div>"
      ],
      "text/plain": [
       "                      Column  \\\n",
       "0                      Store   \n",
       "1                  StoreType   \n",
       "2                 Assortment   \n",
       "3        CompetitionDistance   \n",
       "4  CompetitionOpenSinceMonth   \n",
       "5   CompetitionOpenSinceYear   \n",
       "6                     Promo2   \n",
       "7            Promo2SinceWeek   \n",
       "8            Promo2SinceYear   \n",
       "9              PromoInterval   \n",
       "\n",
       "                                       Unique values  \n",
       "0  [12, 853, 767, 766, 764, 762, 757, 756, 742, 7...  \n",
       "1                                       [a, d, c, b]  \n",
       "2                                          [c, a, b]  \n",
       "3  [250.0, 2410.0, 50.0, 210.0, 840.0, 220.0, 150...  \n",
       "4                                                 []  \n",
       "5                                                 []  \n",
       "6                                             [1, 0]  \n",
       "7  [0.0, 40.0, 14.0, 45.0, 31.0, 22.0, 5.0, 1.0, ...  \n",
       "8  [0.0, 2013.0, 2011.0, 2009.0, 2012.0, 2014.0, ...  \n",
       "9  [0,0,0,0, Jan,Apr,Jul,Oct, Feb,May,Aug,Nov, Ma...  "
      ]
     },
     "execution_count": 28,
     "metadata": {},
     "output_type": "execute_result"
    }
   ],
   "source": [
    "# all unique values for each column in the dataframe\n",
    "unique_values_df(group2_df)"
   ]
  },
  {
   "cell_type": "markdown",
   "id": "fe56202a",
   "metadata": {},
   "source": [
    "Since there is no pattern between each columns the conclusion would be that CompetitionOpenSinceMonth and CompetitionOpenSinceYear are null because there was already a competition when the store was opened. So let's create another column called CompetitionBeforeStoreOpened which holds values of 0 and 1, 0 indicating the absence of competition at the time the store was opened and 1 indicating the presence of competition at the time the store was opened."
   ]
  },
  {
   "cell_type": "code",
   "execution_count": 29,
   "id": "c7c7088f",
   "metadata": {},
   "outputs": [
    {
     "data": {
      "text/html": [
       "<div>\n",
       "<style scoped>\n",
       "    .dataframe tbody tr th:only-of-type {\n",
       "        vertical-align: middle;\n",
       "    }\n",
       "\n",
       "    .dataframe tbody tr th {\n",
       "        vertical-align: top;\n",
       "    }\n",
       "\n",
       "    .dataframe thead th {\n",
       "        text-align: right;\n",
       "    }\n",
       "</style>\n",
       "<table border=\"1\" class=\"dataframe\">\n",
       "  <thead>\n",
       "    <tr style=\"text-align: right;\">\n",
       "      <th></th>\n",
       "      <th>Store</th>\n",
       "      <th>StoreType</th>\n",
       "      <th>Assortment</th>\n",
       "      <th>CompetitionDistance</th>\n",
       "      <th>CompetitionOpenSinceMonth</th>\n",
       "      <th>CompetitionOpenSinceYear</th>\n",
       "      <th>Promo2</th>\n",
       "      <th>Promo2SinceWeek</th>\n",
       "      <th>Promo2SinceYear</th>\n",
       "      <th>PromoInterval</th>\n",
       "      <th>CompetitionBeforeStoreOpened</th>\n",
       "    </tr>\n",
       "  </thead>\n",
       "  <tbody>\n",
       "    <tr>\n",
       "      <th>0</th>\n",
       "      <td>1</td>\n",
       "      <td>c</td>\n",
       "      <td>a</td>\n",
       "      <td>1270.0</td>\n",
       "      <td>9.0</td>\n",
       "      <td>2008.0</td>\n",
       "      <td>0</td>\n",
       "      <td>0.0</td>\n",
       "      <td>0.0</td>\n",
       "      <td>0,0,0,0</td>\n",
       "      <td>0</td>\n",
       "    </tr>\n",
       "    <tr>\n",
       "      <th>1</th>\n",
       "      <td>2</td>\n",
       "      <td>a</td>\n",
       "      <td>a</td>\n",
       "      <td>570.0</td>\n",
       "      <td>11.0</td>\n",
       "      <td>2007.0</td>\n",
       "      <td>1</td>\n",
       "      <td>13.0</td>\n",
       "      <td>2010.0</td>\n",
       "      <td>Jan,Apr,Jul,Oct</td>\n",
       "      <td>0</td>\n",
       "    </tr>\n",
       "    <tr>\n",
       "      <th>2</th>\n",
       "      <td>3</td>\n",
       "      <td>a</td>\n",
       "      <td>a</td>\n",
       "      <td>14130.0</td>\n",
       "      <td>12.0</td>\n",
       "      <td>2006.0</td>\n",
       "      <td>1</td>\n",
       "      <td>14.0</td>\n",
       "      <td>2011.0</td>\n",
       "      <td>Jan,Apr,Jul,Oct</td>\n",
       "      <td>0</td>\n",
       "    </tr>\n",
       "    <tr>\n",
       "      <th>3</th>\n",
       "      <td>4</td>\n",
       "      <td>c</td>\n",
       "      <td>c</td>\n",
       "      <td>620.0</td>\n",
       "      <td>9.0</td>\n",
       "      <td>2009.0</td>\n",
       "      <td>0</td>\n",
       "      <td>0.0</td>\n",
       "      <td>0.0</td>\n",
       "      <td>0,0,0,0</td>\n",
       "      <td>0</td>\n",
       "    </tr>\n",
       "    <tr>\n",
       "      <th>4</th>\n",
       "      <td>5</td>\n",
       "      <td>a</td>\n",
       "      <td>a</td>\n",
       "      <td>29910.0</td>\n",
       "      <td>4.0</td>\n",
       "      <td>2015.0</td>\n",
       "      <td>0</td>\n",
       "      <td>0.0</td>\n",
       "      <td>0.0</td>\n",
       "      <td>0,0,0,0</td>\n",
       "      <td>0</td>\n",
       "    </tr>\n",
       "    <tr>\n",
       "      <th>...</th>\n",
       "      <td>...</td>\n",
       "      <td>...</td>\n",
       "      <td>...</td>\n",
       "      <td>...</td>\n",
       "      <td>...</td>\n",
       "      <td>...</td>\n",
       "      <td>...</td>\n",
       "      <td>...</td>\n",
       "      <td>...</td>\n",
       "      <td>...</td>\n",
       "      <td>...</td>\n",
       "    </tr>\n",
       "    <tr>\n",
       "      <th>1110</th>\n",
       "      <td>1111</td>\n",
       "      <td>a</td>\n",
       "      <td>a</td>\n",
       "      <td>1900.0</td>\n",
       "      <td>6.0</td>\n",
       "      <td>2014.0</td>\n",
       "      <td>1</td>\n",
       "      <td>31.0</td>\n",
       "      <td>2013.0</td>\n",
       "      <td>Jan,Apr,Jul,Oct</td>\n",
       "      <td>0</td>\n",
       "    </tr>\n",
       "    <tr>\n",
       "      <th>1111</th>\n",
       "      <td>1112</td>\n",
       "      <td>c</td>\n",
       "      <td>c</td>\n",
       "      <td>1880.0</td>\n",
       "      <td>4.0</td>\n",
       "      <td>2006.0</td>\n",
       "      <td>0</td>\n",
       "      <td>0.0</td>\n",
       "      <td>0.0</td>\n",
       "      <td>0,0,0,0</td>\n",
       "      <td>0</td>\n",
       "    </tr>\n",
       "    <tr>\n",
       "      <th>1112</th>\n",
       "      <td>1113</td>\n",
       "      <td>a</td>\n",
       "      <td>c</td>\n",
       "      <td>9260.0</td>\n",
       "      <td>NaN</td>\n",
       "      <td>NaN</td>\n",
       "      <td>0</td>\n",
       "      <td>0.0</td>\n",
       "      <td>0.0</td>\n",
       "      <td>0,0,0,0</td>\n",
       "      <td>1</td>\n",
       "    </tr>\n",
       "    <tr>\n",
       "      <th>1113</th>\n",
       "      <td>1114</td>\n",
       "      <td>a</td>\n",
       "      <td>c</td>\n",
       "      <td>870.0</td>\n",
       "      <td>NaN</td>\n",
       "      <td>NaN</td>\n",
       "      <td>0</td>\n",
       "      <td>0.0</td>\n",
       "      <td>0.0</td>\n",
       "      <td>0,0,0,0</td>\n",
       "      <td>1</td>\n",
       "    </tr>\n",
       "    <tr>\n",
       "      <th>1114</th>\n",
       "      <td>1115</td>\n",
       "      <td>d</td>\n",
       "      <td>c</td>\n",
       "      <td>5350.0</td>\n",
       "      <td>NaN</td>\n",
       "      <td>NaN</td>\n",
       "      <td>1</td>\n",
       "      <td>22.0</td>\n",
       "      <td>2012.0</td>\n",
       "      <td>Mar,Jun,Sept,Dec</td>\n",
       "      <td>1</td>\n",
       "    </tr>\n",
       "  </tbody>\n",
       "</table>\n",
       "<p>1115 rows × 11 columns</p>\n",
       "</div>"
      ],
      "text/plain": [
       "      Store StoreType Assortment  CompetitionDistance  \\\n",
       "0         1         c          a               1270.0   \n",
       "1         2         a          a                570.0   \n",
       "2         3         a          a              14130.0   \n",
       "3         4         c          c                620.0   \n",
       "4         5         a          a              29910.0   \n",
       "...     ...       ...        ...                  ...   \n",
       "1110   1111         a          a               1900.0   \n",
       "1111   1112         c          c               1880.0   \n",
       "1112   1113         a          c               9260.0   \n",
       "1113   1114         a          c                870.0   \n",
       "1114   1115         d          c               5350.0   \n",
       "\n",
       "      CompetitionOpenSinceMonth  CompetitionOpenSinceYear  Promo2  \\\n",
       "0                           9.0                    2008.0       0   \n",
       "1                          11.0                    2007.0       1   \n",
       "2                          12.0                    2006.0       1   \n",
       "3                           9.0                    2009.0       0   \n",
       "4                           4.0                    2015.0       0   \n",
       "...                         ...                       ...     ...   \n",
       "1110                        6.0                    2014.0       1   \n",
       "1111                        4.0                    2006.0       0   \n",
       "1112                        NaN                       NaN       0   \n",
       "1113                        NaN                       NaN       0   \n",
       "1114                        NaN                       NaN       1   \n",
       "\n",
       "      Promo2SinceWeek  Promo2SinceYear     PromoInterval  \\\n",
       "0                 0.0              0.0           0,0,0,0   \n",
       "1                13.0           2010.0   Jan,Apr,Jul,Oct   \n",
       "2                14.0           2011.0   Jan,Apr,Jul,Oct   \n",
       "3                 0.0              0.0           0,0,0,0   \n",
       "4                 0.0              0.0           0,0,0,0   \n",
       "...               ...              ...               ...   \n",
       "1110             31.0           2013.0   Jan,Apr,Jul,Oct   \n",
       "1111              0.0              0.0           0,0,0,0   \n",
       "1112              0.0              0.0           0,0,0,0   \n",
       "1113              0.0              0.0           0,0,0,0   \n",
       "1114             22.0           2012.0  Mar,Jun,Sept,Dec   \n",
       "\n",
       "      CompetitionBeforeStoreOpened  \n",
       "0                                0  \n",
       "1                                0  \n",
       "2                                0  \n",
       "3                                0  \n",
       "4                                0  \n",
       "...                            ...  \n",
       "1110                             0  \n",
       "1111                             0  \n",
       "1112                             1  \n",
       "1113                             1  \n",
       "1114                             1  \n",
       "\n",
       "[1115 rows x 11 columns]"
      ]
     },
     "execution_count": 29,
     "metadata": {},
     "output_type": "execute_result"
    }
   ],
   "source": [
    "# deriving new column\n",
    "store_df['CompetitionBeforeStoreOpened'] = store_df['CompetitionOpenSinceYear'].apply(lambda x: 1 if np.isnan(x) else 0)\n",
    "store_df"
   ]
  },
  {
   "cell_type": "markdown",
   "id": "616f1f8c",
   "metadata": {},
   "source": [
    "Impututing the missing values in the column CompetitionOpenSinceYear and CompetitionOpenSinceMonth with its minimun value and 1 respectively. "
   ]
  },
  {
   "cell_type": "code",
   "execution_count": 30,
   "id": "3c295b15",
   "metadata": {},
   "outputs": [
    {
     "data": {
      "text/plain": [
       "1900.0"
      ]
     },
     "execution_count": 30,
     "metadata": {},
     "output_type": "execute_result"
    }
   ],
   "source": [
    "min_year = store_df['CompetitionOpenSinceYear'].min()\n",
    "min_year"
   ]
  },
  {
   "cell_type": "code",
   "execution_count": 31,
   "id": "6c3137ed",
   "metadata": {},
   "outputs": [
    {
     "name": "stdout",
     "output_type": "stream",
     "text": [
      "354 missing values in the column CompetitionOpenSinceYear have been replaced by 1900.0.\n",
      "354 missing values in the column CompetitionOpenSinceMonth have been replaced by 1.\n"
     ]
    }
   ],
   "source": [
    "# impute the column CompetitionOpenSinceYear with 1900 and the column CompetitionOpenSinceMonth with 1\n",
    "fix_missing_value(store_df, ['CompetitionOpenSinceYear'], min_year)\n",
    "fix_missing_value(store_df, ['CompetitionOpenSinceMonth'], 1)"
   ]
  },
  {
   "cell_type": "markdown",
   "id": "8343d004",
   "metadata": {},
   "source": [
    "Handling missing values of column CompetitionDistance"
   ]
  },
  {
   "cell_type": "code",
   "execution_count": 32,
   "id": "743c67bc",
   "metadata": {},
   "outputs": [
    {
     "data": {
      "text/html": [
       "<div>\n",
       "<style scoped>\n",
       "    .dataframe tbody tr th:only-of-type {\n",
       "        vertical-align: middle;\n",
       "    }\n",
       "\n",
       "    .dataframe tbody tr th {\n",
       "        vertical-align: top;\n",
       "    }\n",
       "\n",
       "    .dataframe thead th {\n",
       "        text-align: right;\n",
       "    }\n",
       "</style>\n",
       "<table border=\"1\" class=\"dataframe\">\n",
       "  <thead>\n",
       "    <tr style=\"text-align: right;\">\n",
       "      <th></th>\n",
       "      <th>Store</th>\n",
       "      <th>StoreType</th>\n",
       "      <th>Assortment</th>\n",
       "      <th>CompetitionDistance</th>\n",
       "      <th>CompetitionOpenSinceMonth</th>\n",
       "      <th>CompetitionOpenSinceYear</th>\n",
       "      <th>Promo2</th>\n",
       "      <th>Promo2SinceWeek</th>\n",
       "      <th>Promo2SinceYear</th>\n",
       "      <th>PromoInterval</th>\n",
       "      <th>CompetitionBeforeStoreOpened</th>\n",
       "    </tr>\n",
       "  </thead>\n",
       "  <tbody>\n",
       "    <tr>\n",
       "      <th>290</th>\n",
       "      <td>291</td>\n",
       "      <td>d</td>\n",
       "      <td>a</td>\n",
       "      <td>NaN</td>\n",
       "      <td>1.0</td>\n",
       "      <td>1900.0</td>\n",
       "      <td>0</td>\n",
       "      <td>0.0</td>\n",
       "      <td>0.0</td>\n",
       "      <td>0,0,0,0</td>\n",
       "      <td>1</td>\n",
       "    </tr>\n",
       "    <tr>\n",
       "      <th>621</th>\n",
       "      <td>622</td>\n",
       "      <td>a</td>\n",
       "      <td>c</td>\n",
       "      <td>NaN</td>\n",
       "      <td>1.0</td>\n",
       "      <td>1900.0</td>\n",
       "      <td>0</td>\n",
       "      <td>0.0</td>\n",
       "      <td>0.0</td>\n",
       "      <td>0,0,0,0</td>\n",
       "      <td>1</td>\n",
       "    </tr>\n",
       "    <tr>\n",
       "      <th>878</th>\n",
       "      <td>879</td>\n",
       "      <td>d</td>\n",
       "      <td>a</td>\n",
       "      <td>NaN</td>\n",
       "      <td>1.0</td>\n",
       "      <td>1900.0</td>\n",
       "      <td>1</td>\n",
       "      <td>5.0</td>\n",
       "      <td>2013.0</td>\n",
       "      <td>Feb,May,Aug,Nov</td>\n",
       "      <td>1</td>\n",
       "    </tr>\n",
       "  </tbody>\n",
       "</table>\n",
       "</div>"
      ],
      "text/plain": [
       "     Store StoreType Assortment  CompetitionDistance  \\\n",
       "290    291         d          a                  NaN   \n",
       "621    622         a          c                  NaN   \n",
       "878    879         d          a                  NaN   \n",
       "\n",
       "     CompetitionOpenSinceMonth  CompetitionOpenSinceYear  Promo2  \\\n",
       "290                        1.0                    1900.0       0   \n",
       "621                        1.0                    1900.0       0   \n",
       "878                        1.0                    1900.0       1   \n",
       "\n",
       "     Promo2SinceWeek  Promo2SinceYear    PromoInterval  \\\n",
       "290              0.0              0.0          0,0,0,0   \n",
       "621              0.0              0.0          0,0,0,0   \n",
       "878              5.0           2013.0  Feb,May,Aug,Nov   \n",
       "\n",
       "     CompetitionBeforeStoreOpened  \n",
       "290                             1  \n",
       "621                             1  \n",
       "878                             1  "
      ]
     },
     "execution_count": 32,
     "metadata": {},
     "output_type": "execute_result"
    }
   ],
   "source": [
    "temp_df = store_df[store_df['CompetitionDistance'].isna()]\n",
    "temp_df"
   ]
  },
  {
   "cell_type": "code",
   "execution_count": 33,
   "id": "a943d705",
   "metadata": {},
   "outputs": [
    {
     "data": {
      "text/html": [
       "<div>\n",
       "<style scoped>\n",
       "    .dataframe tbody tr th:only-of-type {\n",
       "        vertical-align: middle;\n",
       "    }\n",
       "\n",
       "    .dataframe tbody tr th {\n",
       "        vertical-align: top;\n",
       "    }\n",
       "\n",
       "    .dataframe thead th {\n",
       "        text-align: right;\n",
       "    }\n",
       "</style>\n",
       "<table border=\"1\" class=\"dataframe\">\n",
       "  <thead>\n",
       "    <tr style=\"text-align: right;\">\n",
       "      <th></th>\n",
       "      <th>Column</th>\n",
       "      <th>Unique values</th>\n",
       "    </tr>\n",
       "  </thead>\n",
       "  <tbody>\n",
       "    <tr>\n",
       "      <th>0</th>\n",
       "      <td>Store</td>\n",
       "      <td>[291, 622, 879]</td>\n",
       "    </tr>\n",
       "    <tr>\n",
       "      <th>1</th>\n",
       "      <td>StoreType</td>\n",
       "      <td>[d, a]</td>\n",
       "    </tr>\n",
       "    <tr>\n",
       "      <th>2</th>\n",
       "      <td>Assortment</td>\n",
       "      <td>[a, c]</td>\n",
       "    </tr>\n",
       "    <tr>\n",
       "      <th>3</th>\n",
       "      <td>CompetitionDistance</td>\n",
       "      <td>[]</td>\n",
       "    </tr>\n",
       "    <tr>\n",
       "      <th>4</th>\n",
       "      <td>CompetitionOpenSinceMonth</td>\n",
       "      <td>[1.0]</td>\n",
       "    </tr>\n",
       "    <tr>\n",
       "      <th>5</th>\n",
       "      <td>CompetitionOpenSinceYear</td>\n",
       "      <td>[1900.0]</td>\n",
       "    </tr>\n",
       "    <tr>\n",
       "      <th>6</th>\n",
       "      <td>Promo2</td>\n",
       "      <td>[0, 1]</td>\n",
       "    </tr>\n",
       "    <tr>\n",
       "      <th>7</th>\n",
       "      <td>Promo2SinceWeek</td>\n",
       "      <td>[0.0, 5.0]</td>\n",
       "    </tr>\n",
       "    <tr>\n",
       "      <th>8</th>\n",
       "      <td>Promo2SinceYear</td>\n",
       "      <td>[0.0, 2013.0]</td>\n",
       "    </tr>\n",
       "    <tr>\n",
       "      <th>9</th>\n",
       "      <td>PromoInterval</td>\n",
       "      <td>[0,0,0,0, Feb,May,Aug,Nov]</td>\n",
       "    </tr>\n",
       "    <tr>\n",
       "      <th>10</th>\n",
       "      <td>CompetitionBeforeStoreOpened</td>\n",
       "      <td>[1]</td>\n",
       "    </tr>\n",
       "  </tbody>\n",
       "</table>\n",
       "</div>"
      ],
      "text/plain": [
       "                          Column               Unique values\n",
       "0                          Store             [291, 622, 879]\n",
       "1                      StoreType                      [d, a]\n",
       "2                     Assortment                      [a, c]\n",
       "3            CompetitionDistance                          []\n",
       "4      CompetitionOpenSinceMonth                       [1.0]\n",
       "5       CompetitionOpenSinceYear                    [1900.0]\n",
       "6                         Promo2                      [0, 1]\n",
       "7                Promo2SinceWeek                  [0.0, 5.0]\n",
       "8                Promo2SinceYear               [0.0, 2013.0]\n",
       "9                  PromoInterval  [0,0,0,0, Feb,May,Aug,Nov]\n",
       "10  CompetitionBeforeStoreOpened                         [1]"
      ]
     },
     "execution_count": 33,
     "metadata": {},
     "output_type": "execute_result"
    }
   ],
   "source": [
    "unique_values_df(temp_df)"
   ]
  },
  {
   "cell_type": "markdown",
   "id": "4cf2c926",
   "metadata": {},
   "source": [
    "All rows with missing values in the column CompetitionDistance has a value of 1 in the column CompetitionBeforeStoreOpened. This is because the competitions for these stores are very far away and have almost no impact on these stores that they weren't measured when collecting the data. For this reason, I will impute thess values with the maximum competition distance."
   ]
  },
  {
   "cell_type": "code",
   "execution_count": 34,
   "id": "1024fb2c",
   "metadata": {},
   "outputs": [
    {
     "data": {
      "text/plain": [
       "75860.0"
      ]
     },
     "execution_count": 34,
     "metadata": {},
     "output_type": "execute_result"
    }
   ],
   "source": [
    "max_dist = store_df['CompetitionDistance'].max()\n",
    "max_dist\n"
   ]
  },
  {
   "cell_type": "code",
   "execution_count": 35,
   "id": "31bc9987",
   "metadata": {},
   "outputs": [
    {
     "name": "stdout",
     "output_type": "stream",
     "text": [
      "3 missing values in the column CompetitionDistance have been replaced by 75860.0.\n"
     ]
    }
   ],
   "source": [
    "fix_missing_value(store_df, ['CompetitionDistance'], max_dist)"
   ]
  },
  {
   "cell_type": "code",
   "execution_count": 36,
   "id": "a9092467",
   "metadata": {},
   "outputs": [
    {
     "name": "stdout",
     "output_type": "stream",
     "text": [
      "The dataset contains 0.0 % missing values.\n"
     ]
    }
   ],
   "source": [
    "# final check for missing values\n",
    "percent_missing_values(store_df)"
   ]
  },
  {
   "cell_type": "markdown",
   "id": "f5973aa5",
   "metadata": {},
   "source": [
    "### Train dataset"
   ]
  },
  {
   "cell_type": "code",
   "execution_count": 37,
   "id": "15d1932f",
   "metadata": {},
   "outputs": [
    {
     "name": "stdout",
     "output_type": "stream",
     "text": [
      "The dataset contains 0.0 % missing values.\n"
     ]
    }
   ],
   "source": [
    "percent_missing_values(train_df)"
   ]
  },
  {
   "cell_type": "markdown",
   "id": "196132d8",
   "metadata": {},
   "source": [
    "## Handling data types"
   ]
  },
  {
   "cell_type": "code",
   "execution_count": 38,
   "id": "2a854ff3",
   "metadata": {},
   "outputs": [
    {
     "data": {
      "text/plain": [
       "Store                             int64\n",
       "StoreType                        object\n",
       "Assortment                       object\n",
       "CompetitionDistance             float64\n",
       "CompetitionOpenSinceMonth       float64\n",
       "CompetitionOpenSinceYear        float64\n",
       "Promo2                            int64\n",
       "Promo2SinceWeek                 float64\n",
       "Promo2SinceYear                 float64\n",
       "PromoInterval                    object\n",
       "CompetitionBeforeStoreOpened      int64\n",
       "dtype: object"
      ]
     },
     "execution_count": 38,
     "metadata": {},
     "output_type": "execute_result"
    }
   ],
   "source": [
    "store_df.dtypes"
   ]
  },
  {
   "cell_type": "code",
   "execution_count": 39,
   "id": "18219a7c",
   "metadata": {},
   "outputs": [
    {
     "data": {
      "text/plain": [
       "['StoreType', 'Assortment', 'PromoInterval']"
      ]
     },
     "execution_count": 39,
     "metadata": {},
     "output_type": "execute_result"
    }
   ],
   "source": [
    "# get the columns with object data type\n",
    "string_columns = store_df.select_dtypes(include='object').columns.tolist()\n",
    "string_columns"
   ]
  },
  {
   "cell_type": "code",
   "execution_count": 40,
   "id": "891acf55",
   "metadata": {},
   "outputs": [],
   "source": [
    "convert_to_string(store_df, string_columns)"
   ]
  },
  {
   "cell_type": "code",
   "execution_count": 41,
   "id": "e5aeed4b",
   "metadata": {},
   "outputs": [],
   "source": [
    "#Converting the columns to int as they cannot be floats.\n",
    "convert_to_int(store_df, ['CompetitionOpenSinceMonth',  'CompetitionOpenSinceYear',\n",
    "        'Promo2SinceWeek', 'Promo2SinceYear'])"
   ]
  },
  {
   "cell_type": "code",
   "execution_count": 42,
   "id": "4dab1a5e",
   "metadata": {},
   "outputs": [
    {
     "data": {
      "text/plain": [
       "Store                             int64\n",
       "StoreType                        string\n",
       "Assortment                       string\n",
       "CompetitionDistance             float64\n",
       "CompetitionOpenSinceMonth         int64\n",
       "CompetitionOpenSinceYear          int64\n",
       "Promo2                            int64\n",
       "Promo2SinceWeek                   int64\n",
       "Promo2SinceYear                   int64\n",
       "PromoInterval                    string\n",
       "CompetitionBeforeStoreOpened      int64\n",
       "dtype: object"
      ]
     },
     "execution_count": 42,
     "metadata": {},
     "output_type": "execute_result"
    }
   ],
   "source": [
    "store_df.dtypes"
   ]
  },
  {
   "cell_type": "code",
   "execution_count": 43,
   "id": "89528b51",
   "metadata": {},
   "outputs": [
    {
     "name": "stdout",
     "output_type": "stream",
     "text": [
      "         Column      Data type\n",
      "0  StateHoliday  mixed-integer\n"
     ]
    }
   ],
   "source": [
    "#Checking if there is mixed data type in the train dataset.\n",
    "show_cols_mixed_dtypes(train_df)"
   ]
  },
  {
   "cell_type": "code",
   "execution_count": 44,
   "id": "772ece23",
   "metadata": {},
   "outputs": [
    {
     "data": {
      "text/plain": [
       "0    855087\n",
       "0    131072\n",
       "a     20260\n",
       "b      6690\n",
       "c      4100\n",
       "Name: StateHoliday, dtype: int64"
      ]
     },
     "execution_count": 44,
     "metadata": {},
     "output_type": "execute_result"
    }
   ],
   "source": [
    "train_df['StateHoliday'].value_counts()"
   ]
  },
  {
   "cell_type": "code",
   "execution_count": 45,
   "id": "7a13f1d5",
   "metadata": {},
   "outputs": [
    {
     "data": {
      "text/plain": [
       "Index(['0', 0, 'a', 'b', 'c'], dtype='object')"
      ]
     },
     "execution_count": 45,
     "metadata": {},
     "output_type": "execute_result"
    }
   ],
   "source": [
    "train_df['StateHoliday'].value_counts().index"
   ]
  },
  {
   "cell_type": "code",
   "execution_count": 46,
   "id": "ae3c1dd8",
   "metadata": {},
   "outputs": [],
   "source": [
    "convert_to_string(train_df, ['StateHoliday'])"
   ]
  },
  {
   "cell_type": "code",
   "execution_count": 47,
   "id": "81754587",
   "metadata": {},
   "outputs": [
    {
     "data": {
      "text/plain": [
       "Store             int64\n",
       "DayOfWeek         int64\n",
       "Date             object\n",
       "Sales             int64\n",
       "Customers         int64\n",
       "Open              int64\n",
       "Promo             int64\n",
       "StateHoliday     string\n",
       "SchoolHoliday     int64\n",
       "dtype: object"
      ]
     },
     "execution_count": 47,
     "metadata": {},
     "output_type": "execute_result"
    }
   ],
   "source": [
    "train_df.dtypes"
   ]
  },
  {
   "cell_type": "code",
   "execution_count": 48,
   "id": "c9a4f91f",
   "metadata": {},
   "outputs": [
    {
     "data": {
      "text/html": [
       "<div>\n",
       "<style scoped>\n",
       "    .dataframe tbody tr th:only-of-type {\n",
       "        vertical-align: middle;\n",
       "    }\n",
       "\n",
       "    .dataframe tbody tr th {\n",
       "        vertical-align: top;\n",
       "    }\n",
       "\n",
       "    .dataframe thead th {\n",
       "        text-align: right;\n",
       "    }\n",
       "</style>\n",
       "<table border=\"1\" class=\"dataframe\">\n",
       "  <thead>\n",
       "    <tr style=\"text-align: right;\">\n",
       "      <th></th>\n",
       "      <th>Store</th>\n",
       "      <th>DayOfWeek</th>\n",
       "      <th>Date</th>\n",
       "      <th>Sales</th>\n",
       "      <th>Customers</th>\n",
       "      <th>Open</th>\n",
       "      <th>Promo</th>\n",
       "      <th>StateHoliday</th>\n",
       "      <th>SchoolHoliday</th>\n",
       "    </tr>\n",
       "  </thead>\n",
       "  <tbody>\n",
       "    <tr>\n",
       "      <th>0</th>\n",
       "      <td>1</td>\n",
       "      <td>5</td>\n",
       "      <td>2015-07-31</td>\n",
       "      <td>5263</td>\n",
       "      <td>555</td>\n",
       "      <td>1</td>\n",
       "      <td>1</td>\n",
       "      <td>0</td>\n",
       "      <td>1</td>\n",
       "    </tr>\n",
       "    <tr>\n",
       "      <th>1</th>\n",
       "      <td>2</td>\n",
       "      <td>5</td>\n",
       "      <td>2015-07-31</td>\n",
       "      <td>6064</td>\n",
       "      <td>625</td>\n",
       "      <td>1</td>\n",
       "      <td>1</td>\n",
       "      <td>0</td>\n",
       "      <td>1</td>\n",
       "    </tr>\n",
       "    <tr>\n",
       "      <th>2</th>\n",
       "      <td>3</td>\n",
       "      <td>5</td>\n",
       "      <td>2015-07-31</td>\n",
       "      <td>8314</td>\n",
       "      <td>821</td>\n",
       "      <td>1</td>\n",
       "      <td>1</td>\n",
       "      <td>0</td>\n",
       "      <td>1</td>\n",
       "    </tr>\n",
       "    <tr>\n",
       "      <th>3</th>\n",
       "      <td>4</td>\n",
       "      <td>5</td>\n",
       "      <td>2015-07-31</td>\n",
       "      <td>13995</td>\n",
       "      <td>1498</td>\n",
       "      <td>1</td>\n",
       "      <td>1</td>\n",
       "      <td>0</td>\n",
       "      <td>1</td>\n",
       "    </tr>\n",
       "    <tr>\n",
       "      <th>4</th>\n",
       "      <td>5</td>\n",
       "      <td>5</td>\n",
       "      <td>2015-07-31</td>\n",
       "      <td>4822</td>\n",
       "      <td>559</td>\n",
       "      <td>1</td>\n",
       "      <td>1</td>\n",
       "      <td>0</td>\n",
       "      <td>1</td>\n",
       "    </tr>\n",
       "  </tbody>\n",
       "</table>\n",
       "</div>"
      ],
      "text/plain": [
       "   Store  DayOfWeek        Date  Sales  Customers  Open  Promo StateHoliday  \\\n",
       "0      1          5  2015-07-31   5263        555     1      1            0   \n",
       "1      2          5  2015-07-31   6064        625     1      1            0   \n",
       "2      3          5  2015-07-31   8314        821     1      1            0   \n",
       "3      4          5  2015-07-31  13995       1498     1      1            0   \n",
       "4      5          5  2015-07-31   4822        559     1      1            0   \n",
       "\n",
       "   SchoolHoliday  \n",
       "0              1  \n",
       "1              1  \n",
       "2              1  \n",
       "3              1  \n",
       "4              1  "
      ]
     },
     "execution_count": 48,
     "metadata": {},
     "output_type": "execute_result"
    }
   ],
   "source": [
    "train_df.head()"
   ]
  },
  {
   "cell_type": "code",
   "execution_count": 49,
   "id": "3594532c",
   "metadata": {},
   "outputs": [],
   "source": [
    "convert_to_datetime(train_df, ['Date'])"
   ]
  },
  {
   "cell_type": "code",
   "execution_count": 50,
   "id": "b03cb680",
   "metadata": {},
   "outputs": [
    {
     "data": {
      "text/plain": [
       "Store                     int64\n",
       "DayOfWeek                 int64\n",
       "Date             datetime64[ns]\n",
       "Sales                     int64\n",
       "Customers                 int64\n",
       "Open                      int64\n",
       "Promo                     int64\n",
       "StateHoliday             string\n",
       "SchoolHoliday             int64\n",
       "dtype: object"
      ]
     },
     "execution_count": 50,
     "metadata": {},
     "output_type": "execute_result"
    }
   ],
   "source": [
    "train_df.dtypes"
   ]
  },
  {
   "cell_type": "markdown",
   "id": "e98ffa02",
   "metadata": {},
   "source": [
    "## Handling duplicates"
   ]
  },
  {
   "cell_type": "code",
   "execution_count": 51,
   "id": "88d49174",
   "metadata": {},
   "outputs": [
    {
     "name": "stdout",
     "output_type": "stream",
     "text": [
      "No duplicate rows were found.\n"
     ]
    }
   ],
   "source": [
    "# search for duplicate rows and drop them\n",
    "drop_duplicates(store_df)"
   ]
  },
  {
   "cell_type": "code",
   "execution_count": 52,
   "id": "c4453cdc",
   "metadata": {},
   "outputs": [
    {
     "name": "stdout",
     "output_type": "stream",
     "text": [
      "No duplicate rows were found.\n"
     ]
    }
   ],
   "source": [
    "# search for duplicate rows and drop them\n",
    "drop_duplicates(train_df)"
   ]
  },
  {
   "cell_type": "markdown",
   "id": "5c9fb9f7",
   "metadata": {},
   "source": [
    "## Handling Date column"
   ]
  },
  {
   "cell_type": "code",
   "execution_count": 53,
   "id": "e58f1629",
   "metadata": {},
   "outputs": [],
   "source": [
    "train_df['Year'] = train_df['Date'].apply(lambda x: x.year)\n",
    "train_df['Month'] = train_df['Date'].apply(lambda x: x.month)\n",
    "train_df['DayOfMonth'] = train_df['Date'].apply(lambda x: x.day)\n",
    "train_df['WeekOfYear'] = train_df['Date'].apply(lambda x: x.weekofyear)\n",
    "train_df['weekday'] = train_df['DayOfWeek'].apply(lambda x: 0 if (x in [6, 7]) else 1)"
   ]
  },
  {
   "cell_type": "code",
   "execution_count": 54,
   "id": "e6ffcf34",
   "metadata": {},
   "outputs": [
    {
     "data": {
      "text/html": [
       "<div>\n",
       "<style scoped>\n",
       "    .dataframe tbody tr th:only-of-type {\n",
       "        vertical-align: middle;\n",
       "    }\n",
       "\n",
       "    .dataframe tbody tr th {\n",
       "        vertical-align: top;\n",
       "    }\n",
       "\n",
       "    .dataframe thead th {\n",
       "        text-align: right;\n",
       "    }\n",
       "</style>\n",
       "<table border=\"1\" class=\"dataframe\">\n",
       "  <thead>\n",
       "    <tr style=\"text-align: right;\">\n",
       "      <th></th>\n",
       "      <th>Store</th>\n",
       "      <th>DayOfWeek</th>\n",
       "      <th>Date</th>\n",
       "      <th>Sales</th>\n",
       "      <th>Customers</th>\n",
       "      <th>Open</th>\n",
       "      <th>Promo</th>\n",
       "      <th>StateHoliday</th>\n",
       "      <th>SchoolHoliday</th>\n",
       "      <th>Year</th>\n",
       "      <th>Month</th>\n",
       "      <th>DayOfMonth</th>\n",
       "      <th>WeekOfYear</th>\n",
       "      <th>weekday</th>\n",
       "    </tr>\n",
       "  </thead>\n",
       "  <tbody>\n",
       "    <tr>\n",
       "      <th>651904</th>\n",
       "      <td>415</td>\n",
       "      <td>7</td>\n",
       "      <td>2013-11-24</td>\n",
       "      <td>0</td>\n",
       "      <td>0</td>\n",
       "      <td>0</td>\n",
       "      <td>0</td>\n",
       "      <td>0</td>\n",
       "      <td>0</td>\n",
       "      <td>2013</td>\n",
       "      <td>11</td>\n",
       "      <td>24</td>\n",
       "      <td>47</td>\n",
       "      <td>0</td>\n",
       "    </tr>\n",
       "    <tr>\n",
       "      <th>22696</th>\n",
       "      <td>397</td>\n",
       "      <td>6</td>\n",
       "      <td>2015-07-11</td>\n",
       "      <td>4307</td>\n",
       "      <td>573</td>\n",
       "      <td>1</td>\n",
       "      <td>0</td>\n",
       "      <td>0</td>\n",
       "      <td>0</td>\n",
       "      <td>2015</td>\n",
       "      <td>7</td>\n",
       "      <td>11</td>\n",
       "      <td>28</td>\n",
       "      <td>0</td>\n",
       "    </tr>\n",
       "    <tr>\n",
       "      <th>322475</th>\n",
       "      <td>90</td>\n",
       "      <td>2</td>\n",
       "      <td>2014-09-30</td>\n",
       "      <td>11950</td>\n",
       "      <td>1358</td>\n",
       "      <td>1</td>\n",
       "      <td>1</td>\n",
       "      <td>0</td>\n",
       "      <td>0</td>\n",
       "      <td>2014</td>\n",
       "      <td>9</td>\n",
       "      <td>30</td>\n",
       "      <td>40</td>\n",
       "      <td>1</td>\n",
       "    </tr>\n",
       "    <tr>\n",
       "      <th>296218</th>\n",
       "      <td>1114</td>\n",
       "      <td>3</td>\n",
       "      <td>2014-10-29</td>\n",
       "      <td>16579</td>\n",
       "      <td>2649</td>\n",
       "      <td>1</td>\n",
       "      <td>0</td>\n",
       "      <td>0</td>\n",
       "      <td>0</td>\n",
       "      <td>2014</td>\n",
       "      <td>10</td>\n",
       "      <td>29</td>\n",
       "      <td>44</td>\n",
       "      <td>1</td>\n",
       "    </tr>\n",
       "    <tr>\n",
       "      <th>285535</th>\n",
       "      <td>642</td>\n",
       "      <td>7</td>\n",
       "      <td>2014-11-09</td>\n",
       "      <td>0</td>\n",
       "      <td>0</td>\n",
       "      <td>0</td>\n",
       "      <td>0</td>\n",
       "      <td>0</td>\n",
       "      <td>0</td>\n",
       "      <td>2014</td>\n",
       "      <td>11</td>\n",
       "      <td>9</td>\n",
       "      <td>45</td>\n",
       "      <td>0</td>\n",
       "    </tr>\n",
       "    <tr>\n",
       "      <th>809940</th>\n",
       "      <td>121</td>\n",
       "      <td>5</td>\n",
       "      <td>2013-07-05</td>\n",
       "      <td>5319</td>\n",
       "      <td>657</td>\n",
       "      <td>1</td>\n",
       "      <td>1</td>\n",
       "      <td>0</td>\n",
       "      <td>0</td>\n",
       "      <td>2013</td>\n",
       "      <td>7</td>\n",
       "      <td>5</td>\n",
       "      <td>27</td>\n",
       "      <td>1</td>\n",
       "    </tr>\n",
       "    <tr>\n",
       "      <th>999307</th>\n",
       "      <td>1053</td>\n",
       "      <td>4</td>\n",
       "      <td>2013-01-17</td>\n",
       "      <td>6519</td>\n",
       "      <td>876</td>\n",
       "      <td>1</td>\n",
       "      <td>0</td>\n",
       "      <td>0</td>\n",
       "      <td>0</td>\n",
       "      <td>2013</td>\n",
       "      <td>1</td>\n",
       "      <td>17</td>\n",
       "      <td>3</td>\n",
       "      <td>1</td>\n",
       "    </tr>\n",
       "    <tr>\n",
       "      <th>624045</th>\n",
       "      <td>431</td>\n",
       "      <td>4</td>\n",
       "      <td>2013-12-19</td>\n",
       "      <td>13482</td>\n",
       "      <td>1343</td>\n",
       "      <td>1</td>\n",
       "      <td>1</td>\n",
       "      <td>0</td>\n",
       "      <td>0</td>\n",
       "      <td>2013</td>\n",
       "      <td>12</td>\n",
       "      <td>19</td>\n",
       "      <td>51</td>\n",
       "      <td>1</td>\n",
       "    </tr>\n",
       "    <tr>\n",
       "      <th>666759</th>\n",
       "      <td>775</td>\n",
       "      <td>1</td>\n",
       "      <td>2013-11-11</td>\n",
       "      <td>7221</td>\n",
       "      <td>597</td>\n",
       "      <td>1</td>\n",
       "      <td>0</td>\n",
       "      <td>0</td>\n",
       "      <td>0</td>\n",
       "      <td>2013</td>\n",
       "      <td>11</td>\n",
       "      <td>11</td>\n",
       "      <td>46</td>\n",
       "      <td>1</td>\n",
       "    </tr>\n",
       "    <tr>\n",
       "      <th>337888</th>\n",
       "      <td>631</td>\n",
       "      <td>7</td>\n",
       "      <td>2014-09-14</td>\n",
       "      <td>0</td>\n",
       "      <td>0</td>\n",
       "      <td>0</td>\n",
       "      <td>0</td>\n",
       "      <td>0</td>\n",
       "      <td>0</td>\n",
       "      <td>2014</td>\n",
       "      <td>9</td>\n",
       "      <td>14</td>\n",
       "      <td>37</td>\n",
       "      <td>0</td>\n",
       "    </tr>\n",
       "  </tbody>\n",
       "</table>\n",
       "</div>"
      ],
      "text/plain": [
       "        Store  DayOfWeek       Date  Sales  Customers  Open  Promo  \\\n",
       "651904    415          7 2013-11-24      0          0     0      0   \n",
       "22696     397          6 2015-07-11   4307        573     1      0   \n",
       "322475     90          2 2014-09-30  11950       1358     1      1   \n",
       "296218   1114          3 2014-10-29  16579       2649     1      0   \n",
       "285535    642          7 2014-11-09      0          0     0      0   \n",
       "809940    121          5 2013-07-05   5319        657     1      1   \n",
       "999307   1053          4 2013-01-17   6519        876     1      0   \n",
       "624045    431          4 2013-12-19  13482       1343     1      1   \n",
       "666759    775          1 2013-11-11   7221        597     1      0   \n",
       "337888    631          7 2014-09-14      0          0     0      0   \n",
       "\n",
       "       StateHoliday  SchoolHoliday  Year  Month  DayOfMonth  WeekOfYear  \\\n",
       "651904            0              0  2013     11          24          47   \n",
       "22696             0              0  2015      7          11          28   \n",
       "322475            0              0  2014      9          30          40   \n",
       "296218            0              0  2014     10          29          44   \n",
       "285535            0              0  2014     11           9          45   \n",
       "809940            0              0  2013      7           5          27   \n",
       "999307            0              0  2013      1          17           3   \n",
       "624045            0              0  2013     12          19          51   \n",
       "666759            0              0  2013     11          11          46   \n",
       "337888            0              0  2014      9          14          37   \n",
       "\n",
       "        weekday  \n",
       "651904        0  \n",
       "22696         0  \n",
       "322475        1  \n",
       "296218        1  \n",
       "285535        0  \n",
       "809940        1  \n",
       "999307        1  \n",
       "624045        1  \n",
       "666759        1  \n",
       "337888        0  "
      ]
     },
     "execution_count": 54,
     "metadata": {},
     "output_type": "execute_result"
    }
   ],
   "source": [
    "train_df.sample(10)"
   ]
  },
  {
   "cell_type": "code",
   "execution_count": 55,
   "id": "43cb238e",
   "metadata": {},
   "outputs": [],
   "source": [
    "def getMonth(month_list, index):\n",
    "    months = ['0', 'Jan', 'Feb', 'Mar', 'Apr', 'May', 'Jun', 'Jul', 'Aug', 'Sept', 'Oct', 'Nov', 'Dec']\n",
    "    month_list = month_list.split(',')\n",
    "    month = month_list[index]\n",
    "    return months.index(month)"
   ]
  },
  {
   "cell_type": "code",
   "execution_count": 56,
   "id": "b9364e39",
   "metadata": {},
   "outputs": [],
   "source": [
    "# split the PromoInterval column into 4 columns\n",
    "store_df['PromoInterval0'] = store_df.PromoInterval.apply((lambda x: getMonth(x, 0)))\n",
    "store_df['PromoInterval1'] = store_df.PromoInterval.apply((lambda x: getMonth(x, 1)))\n",
    "store_df['PromoInterval2'] = store_df.PromoInterval.apply((lambda x: getMonth(x, 2)))\n",
    "store_df['PromoInterval3'] = store_df.PromoInterval.apply((lambda x: getMonth(x, 3)))"
   ]
  },
  {
   "cell_type": "code",
   "execution_count": 57,
   "id": "245d5ff0",
   "metadata": {},
   "outputs": [
    {
     "data": {
      "text/html": [
       "<div>\n",
       "<style scoped>\n",
       "    .dataframe tbody tr th:only-of-type {\n",
       "        vertical-align: middle;\n",
       "    }\n",
       "\n",
       "    .dataframe tbody tr th {\n",
       "        vertical-align: top;\n",
       "    }\n",
       "\n",
       "    .dataframe thead th {\n",
       "        text-align: right;\n",
       "    }\n",
       "</style>\n",
       "<table border=\"1\" class=\"dataframe\">\n",
       "  <thead>\n",
       "    <tr style=\"text-align: right;\">\n",
       "      <th></th>\n",
       "      <th>Store</th>\n",
       "      <th>StoreType</th>\n",
       "      <th>Assortment</th>\n",
       "      <th>CompetitionDistance</th>\n",
       "      <th>CompetitionOpenSinceMonth</th>\n",
       "      <th>CompetitionOpenSinceYear</th>\n",
       "      <th>Promo2</th>\n",
       "      <th>Promo2SinceWeek</th>\n",
       "      <th>Promo2SinceYear</th>\n",
       "      <th>PromoInterval</th>\n",
       "      <th>CompetitionBeforeStoreOpened</th>\n",
       "      <th>PromoInterval0</th>\n",
       "      <th>PromoInterval1</th>\n",
       "      <th>PromoInterval2</th>\n",
       "      <th>PromoInterval3</th>\n",
       "    </tr>\n",
       "  </thead>\n",
       "  <tbody>\n",
       "    <tr>\n",
       "      <th>561</th>\n",
       "      <td>562</td>\n",
       "      <td>b</td>\n",
       "      <td>c</td>\n",
       "      <td>1210.0</td>\n",
       "      <td>1</td>\n",
       "      <td>1900</td>\n",
       "      <td>0</td>\n",
       "      <td>0</td>\n",
       "      <td>0</td>\n",
       "      <td>0,0,0,0</td>\n",
       "      <td>1</td>\n",
       "      <td>0</td>\n",
       "      <td>0</td>\n",
       "      <td>0</td>\n",
       "      <td>0</td>\n",
       "    </tr>\n",
       "    <tr>\n",
       "      <th>826</th>\n",
       "      <td>827</td>\n",
       "      <td>a</td>\n",
       "      <td>c</td>\n",
       "      <td>250.0</td>\n",
       "      <td>1</td>\n",
       "      <td>2005</td>\n",
       "      <td>0</td>\n",
       "      <td>0</td>\n",
       "      <td>0</td>\n",
       "      <td>0,0,0,0</td>\n",
       "      <td>0</td>\n",
       "      <td>0</td>\n",
       "      <td>0</td>\n",
       "      <td>0</td>\n",
       "      <td>0</td>\n",
       "    </tr>\n",
       "    <tr>\n",
       "      <th>902</th>\n",
       "      <td>903</td>\n",
       "      <td>d</td>\n",
       "      <td>c</td>\n",
       "      <td>7290.0</td>\n",
       "      <td>9</td>\n",
       "      <td>2014</td>\n",
       "      <td>0</td>\n",
       "      <td>0</td>\n",
       "      <td>0</td>\n",
       "      <td>0,0,0,0</td>\n",
       "      <td>0</td>\n",
       "      <td>0</td>\n",
       "      <td>0</td>\n",
       "      <td>0</td>\n",
       "      <td>0</td>\n",
       "    </tr>\n",
       "    <tr>\n",
       "      <th>1103</th>\n",
       "      <td>1104</td>\n",
       "      <td>d</td>\n",
       "      <td>a</td>\n",
       "      <td>260.0</td>\n",
       "      <td>2</td>\n",
       "      <td>2012</td>\n",
       "      <td>1</td>\n",
       "      <td>14</td>\n",
       "      <td>2011</td>\n",
       "      <td>Jan,Apr,Jul,Oct</td>\n",
       "      <td>0</td>\n",
       "      <td>1</td>\n",
       "      <td>4</td>\n",
       "      <td>7</td>\n",
       "      <td>10</td>\n",
       "    </tr>\n",
       "    <tr>\n",
       "      <th>814</th>\n",
       "      <td>815</td>\n",
       "      <td>a</td>\n",
       "      <td>a</td>\n",
       "      <td>590.0</td>\n",
       "      <td>1</td>\n",
       "      <td>1900</td>\n",
       "      <td>1</td>\n",
       "      <td>40</td>\n",
       "      <td>2014</td>\n",
       "      <td>Jan,Apr,Jul,Oct</td>\n",
       "      <td>0</td>\n",
       "      <td>1</td>\n",
       "      <td>4</td>\n",
       "      <td>7</td>\n",
       "      <td>10</td>\n",
       "    </tr>\n",
       "    <tr>\n",
       "      <th>400</th>\n",
       "      <td>401</td>\n",
       "      <td>a</td>\n",
       "      <td>c</td>\n",
       "      <td>9200.0</td>\n",
       "      <td>10</td>\n",
       "      <td>2009</td>\n",
       "      <td>1</td>\n",
       "      <td>14</td>\n",
       "      <td>2012</td>\n",
       "      <td>Jan,Apr,Jul,Oct</td>\n",
       "      <td>0</td>\n",
       "      <td>1</td>\n",
       "      <td>4</td>\n",
       "      <td>7</td>\n",
       "      <td>10</td>\n",
       "    </tr>\n",
       "    <tr>\n",
       "      <th>613</th>\n",
       "      <td>614</td>\n",
       "      <td>a</td>\n",
       "      <td>a</td>\n",
       "      <td>1160.0</td>\n",
       "      <td>12</td>\n",
       "      <td>2012</td>\n",
       "      <td>0</td>\n",
       "      <td>0</td>\n",
       "      <td>0</td>\n",
       "      <td>0,0,0,0</td>\n",
       "      <td>0</td>\n",
       "      <td>0</td>\n",
       "      <td>0</td>\n",
       "      <td>0</td>\n",
       "      <td>0</td>\n",
       "    </tr>\n",
       "    <tr>\n",
       "      <th>587</th>\n",
       "      <td>588</td>\n",
       "      <td>d</td>\n",
       "      <td>c</td>\n",
       "      <td>15720.0</td>\n",
       "      <td>3</td>\n",
       "      <td>2010</td>\n",
       "      <td>0</td>\n",
       "      <td>0</td>\n",
       "      <td>0</td>\n",
       "      <td>0,0,0,0</td>\n",
       "      <td>0</td>\n",
       "      <td>0</td>\n",
       "      <td>0</td>\n",
       "      <td>0</td>\n",
       "      <td>0</td>\n",
       "    </tr>\n",
       "    <tr>\n",
       "      <th>439</th>\n",
       "      <td>440</td>\n",
       "      <td>d</td>\n",
       "      <td>a</td>\n",
       "      <td>3900.0</td>\n",
       "      <td>4</td>\n",
       "      <td>2005</td>\n",
       "      <td>1</td>\n",
       "      <td>45</td>\n",
       "      <td>2009</td>\n",
       "      <td>Feb,May,Aug,Nov</td>\n",
       "      <td>0</td>\n",
       "      <td>2</td>\n",
       "      <td>5</td>\n",
       "      <td>8</td>\n",
       "      <td>11</td>\n",
       "    </tr>\n",
       "    <tr>\n",
       "      <th>772</th>\n",
       "      <td>773</td>\n",
       "      <td>a</td>\n",
       "      <td>a</td>\n",
       "      <td>200.0</td>\n",
       "      <td>1</td>\n",
       "      <td>1900</td>\n",
       "      <td>0</td>\n",
       "      <td>0</td>\n",
       "      <td>0</td>\n",
       "      <td>0,0,0,0</td>\n",
       "      <td>1</td>\n",
       "      <td>0</td>\n",
       "      <td>0</td>\n",
       "      <td>0</td>\n",
       "      <td>0</td>\n",
       "    </tr>\n",
       "  </tbody>\n",
       "</table>\n",
       "</div>"
      ],
      "text/plain": [
       "      Store StoreType Assortment  CompetitionDistance  \\\n",
       "561     562         b          c               1210.0   \n",
       "826     827         a          c                250.0   \n",
       "902     903         d          c               7290.0   \n",
       "1103   1104         d          a                260.0   \n",
       "814     815         a          a                590.0   \n",
       "400     401         a          c               9200.0   \n",
       "613     614         a          a               1160.0   \n",
       "587     588         d          c              15720.0   \n",
       "439     440         d          a               3900.0   \n",
       "772     773         a          a                200.0   \n",
       "\n",
       "      CompetitionOpenSinceMonth  CompetitionOpenSinceYear  Promo2  \\\n",
       "561                           1                      1900       0   \n",
       "826                           1                      2005       0   \n",
       "902                           9                      2014       0   \n",
       "1103                          2                      2012       1   \n",
       "814                           1                      1900       1   \n",
       "400                          10                      2009       1   \n",
       "613                          12                      2012       0   \n",
       "587                           3                      2010       0   \n",
       "439                           4                      2005       1   \n",
       "772                           1                      1900       0   \n",
       "\n",
       "      Promo2SinceWeek  Promo2SinceYear    PromoInterval  \\\n",
       "561                 0                0          0,0,0,0   \n",
       "826                 0                0          0,0,0,0   \n",
       "902                 0                0          0,0,0,0   \n",
       "1103               14             2011  Jan,Apr,Jul,Oct   \n",
       "814                40             2014  Jan,Apr,Jul,Oct   \n",
       "400                14             2012  Jan,Apr,Jul,Oct   \n",
       "613                 0                0          0,0,0,0   \n",
       "587                 0                0          0,0,0,0   \n",
       "439                45             2009  Feb,May,Aug,Nov   \n",
       "772                 0                0          0,0,0,0   \n",
       "\n",
       "      CompetitionBeforeStoreOpened  PromoInterval0  PromoInterval1  \\\n",
       "561                              1               0               0   \n",
       "826                              0               0               0   \n",
       "902                              0               0               0   \n",
       "1103                             0               1               4   \n",
       "814                              0               1               4   \n",
       "400                              0               1               4   \n",
       "613                              0               0               0   \n",
       "587                              0               0               0   \n",
       "439                              0               2               5   \n",
       "772                              1               0               0   \n",
       "\n",
       "      PromoInterval2  PromoInterval3  \n",
       "561                0               0  \n",
       "826                0               0  \n",
       "902                0               0  \n",
       "1103               7              10  \n",
       "814                7              10  \n",
       "400                7              10  \n",
       "613                0               0  \n",
       "587                0               0  \n",
       "439                8              11  \n",
       "772                0               0  "
      ]
     },
     "execution_count": 57,
     "metadata": {},
     "output_type": "execute_result"
    }
   ],
   "source": [
    "store_df.sample(10)"
   ]
  },
  {
   "cell_type": "code",
   "execution_count": 58,
   "id": "f45b7937",
   "metadata": {},
   "outputs": [],
   "source": [
    "# save the clean dataframe to a csv file\n",
    "file_handler.to_csv(train_df, '../data/eda/train.csv')\n",
    "file_handler.to_csv(store_df, '../data/eda/store.csv')"
   ]
  },
  {
   "cell_type": "code",
   "execution_count": 59,
   "id": "daddd469",
   "metadata": {},
   "outputs": [
    {
     "data": {
      "text/plain": [
       "(1017209, 28)"
      ]
     },
     "execution_count": 59,
     "metadata": {},
     "output_type": "execute_result"
    }
   ],
   "source": [
    "# merging store_df and train_df\n",
    "df = pd.merge(train_df, store_df, how='inner', on='Store')\n",
    "df.shape"
   ]
  },
  {
   "cell_type": "code",
   "execution_count": 60,
   "id": "10db9540",
   "metadata": {},
   "outputs": [],
   "source": [
    "# save merged dataframe\n",
    "file_handler.to_csv(df, '../data/eda/merged.csv')"
   ]
  },
  {
   "cell_type": "markdown",
   "id": "8f378233",
   "metadata": {},
   "source": [
    "## Univariate Analysis"
   ]
  },
  {
   "cell_type": "markdown",
   "id": "e6cfd7d3",
   "metadata": {},
   "source": [
    "### Store type"
   ]
  },
  {
   "cell_type": "code",
   "execution_count": 61,
   "id": "9409a496",
   "metadata": {},
   "outputs": [
    {
     "data": {
      "image/png": "[encoded data removed]",
      "text/plain": [
       "<Figure size 864x432 with 1 Axes>"
      ]
     },
     "metadata": {
      "needs_background": "light"
     },
     "output_type": "display_data"
    }
   ],
   "source": [
    "plot_counts(store_df, \"StoreType\",type=\"univariate\")\n"
   ]
  },
  {
   "cell_type": "code",
   "execution_count": 62,
   "id": "84a0a82c",
   "metadata": {},
   "outputs": [
    {
     "data": {
      "text/plain": [
       "a    602\n",
       "d    348\n",
       "c    148\n",
       "b     17\n",
       "Name: StoreType, dtype: Int64"
      ]
     },
     "execution_count": 62,
     "metadata": {},
     "output_type": "execute_result"
    }
   ],
   "source": [
    "# unique value counts\n",
    "counts_df = store_df['StoreType'].value_counts()\n",
    "counts_df"
   ]
  },
  {
   "cell_type": "markdown",
   "id": "7c8e993b",
   "metadata": {},
   "source": [
    "### Assortment"
   ]
  },
  {
   "cell_type": "code",
   "execution_count": 63,
   "id": "d6df900f",
   "metadata": {},
   "outputs": [
    {
     "data": {
      "text/plain": [
       "a    593\n",
       "c    513\n",
       "b      9\n",
       "Name: Assortment, dtype: Int64"
      ]
     },
     "execution_count": 63,
     "metadata": {},
     "output_type": "execute_result"
    }
   ],
   "source": [
    "# unique value counts\n",
    "counts_df = store_df['Assortment'].value_counts()\n",
    "counts_df"
   ]
  },
  {
   "cell_type": "code",
   "execution_count": 64,
   "id": "3350fe00",
   "metadata": {},
   "outputs": [
    {
     "data": {
      "image/png": "[encoded data removed]",
      "text/plain": [
       "<Figure size 864x432 with 1 Axes>"
      ]
     },
     "metadata": {
      "needs_background": "light"
     },
     "output_type": "display_data"
    }
   ],
   "source": [
    "plot_counts(store_df, \"Assortment\",type=\"univariate\")"
   ]
  },
  {
   "cell_type": "markdown",
   "id": "4d2cb959",
   "metadata": {},
   "source": [
    "### Competition distance"
   ]
  },
  {
   "cell_type": "code",
   "execution_count": 65,
   "id": "20d0da35",
   "metadata": {},
   "outputs": [
    {
     "data": {
      "image/png": "[encoded data removed]",
      "text/plain": [
       "<Figure size 864x432 with 1 Axes>"
      ]
     },
     "metadata": {
      "needs_background": "light"
     },
     "output_type": "display_data"
    }
   ],
   "source": [
    "plot_counts(store_df, \"CompetitionDistance\",type=\"univariate\")"
   ]
  },
  {
   "cell_type": "markdown",
   "id": "dd63631d",
   "metadata": {},
   "source": [
    "### Promo2"
   ]
  },
  {
   "cell_type": "code",
   "execution_count": 66,
   "id": "c4437aad",
   "metadata": {},
   "outputs": [
    {
     "data": {
      "text/plain": [
       "1    571\n",
       "0    544\n",
       "Name: Promo2, dtype: int64"
      ]
     },
     "execution_count": 66,
     "metadata": {},
     "output_type": "execute_result"
    }
   ],
   "source": [
    "# unique value counts\n",
    "counts_df = store_df['Promo2'].value_counts()\n",
    "counts_df"
   ]
  },
  {
   "cell_type": "markdown",
   "id": "f2b97a78",
   "metadata": {},
   "source": [
    "### Competition before store opened"
   ]
  },
  {
   "cell_type": "code",
   "execution_count": 67,
   "id": "537f0d26",
   "metadata": {},
   "outputs": [
    {
     "data": {
      "text/plain": [
       "0    761\n",
       "1    354\n",
       "Name: CompetitionBeforeStoreOpened, dtype: int64"
      ]
     },
     "execution_count": 67,
     "metadata": {},
     "output_type": "execute_result"
    }
   ],
   "source": [
    "# unique value counts\n",
    "counts_df = store_df['CompetitionBeforeStoreOpened'].value_counts()\n",
    "counts_df"
   ]
  },
  {
   "cell_type": "markdown",
   "id": "44ccc6a6",
   "metadata": {},
   "source": [
    "### Day of week"
   ]
  },
  {
   "cell_type": "code",
   "execution_count": 68,
   "id": "00eddc3b",
   "metadata": {},
   "outputs": [
    {
     "data": {
      "text/plain": [
       "5    145845\n",
       "4    145845\n",
       "3    145665\n",
       "2    145664\n",
       "1    144730\n",
       "7    144730\n",
       "6    144730\n",
       "Name: DayOfWeek, dtype: int64"
      ]
     },
     "execution_count": 68,
     "metadata": {},
     "output_type": "execute_result"
    }
   ],
   "source": [
    "# unique value counts\n",
    "counts_df = train_df['DayOfWeek'].value_counts()\n",
    "counts_df"
   ]
  },
  {
   "cell_type": "code",
   "execution_count": 69,
   "id": "f2391525",
   "metadata": {},
   "outputs": [
    {
     "data": {
      "image/png": "[encoded data removed]",
      "text/plain": [
       "<Figure size 864x432 with 1 Axes>"
      ]
     },
     "metadata": {
      "needs_background": "light"
     },
     "output_type": "display_data"
    }
   ],
   "source": [
    "plot_hist(train_df, 'Sales')"
   ]
  },
  {
   "cell_type": "code",
   "execution_count": 70,
   "id": "e19401f8",
   "metadata": {},
   "outputs": [
    {
     "data": {
      "image/png": "[encoded data removed]",
      "text/plain": [
       "<Figure size 864x432 with 1 Axes>"
      ]
     },
     "metadata": {
      "needs_background": "light"
     },
     "output_type": "display_data"
    }
   ],
   "source": [
    "plot_hist(train_df, 'Customers')"
   ]
  },
  {
   "cell_type": "code",
   "execution_count": 71,
   "id": "2c7a5645",
   "metadata": {},
   "outputs": [
    {
     "data": {
      "image/png": "[encoded data removed]",
      "text/plain": [
       "<Figure size 864x432 with 1 Axes>"
      ]
     },
     "metadata": {
      "needs_background": "light"
     },
     "output_type": "display_data"
    }
   ],
   "source": [
    "plot_counts(train_df, \"Open\",type=\"univariate\")"
   ]
  },
  {
   "cell_type": "code",
   "execution_count": 72,
   "id": "627ee95f",
   "metadata": {},
   "outputs": [
    {
     "data": {
      "image/png": "[encoded data removed]",
      "text/plain": [
       "<Figure size 864x432 with 1 Axes>"
      ]
     },
     "metadata": {
      "needs_background": "light"
     },
     "output_type": "display_data"
    }
   ],
   "source": [
    "plot_counts(train_df, \"Promo\",type=\"univariate\")"
   ]
  },
  {
   "cell_type": "markdown",
   "id": "ce59b490",
   "metadata": {},
   "source": [
    "### State holiday"
   ]
  },
  {
   "cell_type": "code",
   "execution_count": 73,
   "id": "ab170c83",
   "metadata": {},
   "outputs": [
    {
     "data": {
      "text/plain": [
       "0    986159\n",
       "a     20260\n",
       "b      6690\n",
       "c      4100\n",
       "Name: StateHoliday, dtype: Int64"
      ]
     },
     "execution_count": 73,
     "metadata": {},
     "output_type": "execute_result"
    }
   ],
   "source": [
    "# unique value counts\n",
    "counts_df = train_df['StateHoliday'].value_counts()\n",
    "counts_df"
   ]
  },
  {
   "cell_type": "markdown",
   "id": "4c8dae0c",
   "metadata": {},
   "source": [
    "### School holiday"
   ]
  },
  {
   "cell_type": "code",
   "execution_count": 74,
   "id": "9b2d68cd",
   "metadata": {},
   "outputs": [
    {
     "data": {
      "text/plain": [
       "0    835488\n",
       "1    181721\n",
       "Name: SchoolHoliday, dtype: int64"
      ]
     },
     "execution_count": 74,
     "metadata": {},
     "output_type": "execute_result"
    }
   ],
   "source": [
    "# unique value counts\n",
    "counts_df = train_df['SchoolHoliday'].value_counts()\n",
    "counts_df"
   ]
  },
  {
   "cell_type": "markdown",
   "id": "c9b22069",
   "metadata": {},
   "source": [
    "## Bivariate Analysis"
   ]
  },
  {
   "cell_type": "markdown",
   "id": "e5b51f63",
   "metadata": {},
   "source": [
    "### State holiday and Sales"
   ]
  },
  {
   "cell_type": "code",
   "execution_count": 75,
   "id": "66d8270e",
   "metadata": {},
   "outputs": [
    {
     "data": {
      "image/png": "[encoded data removed]",
      "text/plain": [
       "<Figure size 864x288 with 2 Axes>"
      ]
     },
     "metadata": {
      "needs_background": "light"
     },
     "output_type": "display_data"
    }
   ],
   "source": [
    "fig, (axis1,axis2) = plt.subplots(1,2,figsize=(12,4))\n",
    "\n",
    "# holidays and no_holidays\n",
    "sns.barplot(x='StateHoliday', y='Sales', data=train_df, ax=axis1).set_title('Comparison of sales during StateHolidays and ordinary days')\n",
    "\n",
    "# holidays only\n",
    "mask = (train_df[\"StateHoliday\"] != \"0\") & (train_df[\"Sales\"] > 0)\n",
    "sns.barplot(x='StateHoliday', y='Sales', data=train_df[mask], ax=axis2).set_title('Sales during Stateholidays')\n",
    "plt.show()"
   ]
  },
  {
   "cell_type": "markdown",
   "id": "ea86c6c0",
   "metadata": {},
   "source": [
    "### SchoolHoliday vs sales and Customers"
   ]
  },
  {
   "cell_type": "code",
   "execution_count": 76,
   "id": "ba79e0d9",
   "metadata": {},
   "outputs": [
    {
     "data": {
      "image/png": "[encoded data removed]",
      "text/plain": [
       "<Figure size 864x288 with 2 Axes>"
      ]
     },
     "metadata": {
      "needs_background": "light"
     },
     "output_type": "display_data"
    }
   ],
   "source": [
    "fig, (axis1,axis2) = plt.subplots(1,2,figsize=(12,4))\n",
    "\n",
    "sns.barplot(x='SchoolHoliday', y='Sales', data=train_df, ax=axis1).set_title('Comparison of sales vs SchoolHoliday')\n",
    "sns.barplot(x='SchoolHoliday', y='Customers', data=train_df, ax=axis2).set_title('Comparison of customers vs SchoolHoliday')\n",
    "plt.show()"
   ]
  },
  {
   "cell_type": "markdown",
   "id": "75761159",
   "metadata": {},
   "source": [
    "### StoreType vs Sales and Customers"
   ]
  },
  {
   "cell_type": "code",
   "execution_count": 77,
   "id": "198d4b22",
   "metadata": {},
   "outputs": [
    {
     "data": {
      "image/png": "[encoded data removed]",
      "text/plain": [
       "<Figure size 1080x288 with 2 Axes>"
      ]
     },
     "metadata": {
      "needs_background": "light"
     },
     "output_type": "display_data"
    }
   ],
   "source": [
    "fig, (axis1,axis2) = plt.subplots(1,2,figsize=(15,4))\n",
    "sns.barplot(x='StoreType', y='Sales', data=df, ax=axis1, palette = [\"#95a5a6\", \"#e74c3c\", \"#34495e\", \"#2ecc71\"], order=['a','b','c', 'd']).set_title('Sales across different StoreType')\n",
    "sns.barplot(x='StoreType', y='Customers', data=df, ax=axis2, palette = [\"#95a5a6\", \"#e74c3c\", \"#34495e\", \"#2ecc71\"], order=['a','b','c', 'd']).set_title('No. of customers across diffrent StoreType')\n",
    "plt.show()"
   ]
  },
  {
   "cell_type": "markdown",
   "id": "ea08f971",
   "metadata": {},
   "source": [
    "### Assortment vs Sales and Customers"
   ]
  },
  {
   "cell_type": "code",
   "execution_count": 78,
   "id": "e30ae19c",
   "metadata": {},
   "outputs": [
    {
     "data": {
      "image/png": "[encoded data removed]",
      "text/plain": [
       "<Figure size 1080x288 with 2 Axes>"
      ]
     },
     "metadata": {
      "needs_background": "light"
     },
     "output_type": "display_data"
    }
   ],
   "source": [
    "fig, (axis1,axis2) = plt.subplots(1,2,figsize=(15,4))\n",
    "\n",
    "sns.barplot(x='Assortment', y='Sales', data=df, palette = 'husl', order=['a','b','c'], ax=axis1).set_title('Sales across different assortment types')\n",
    "sns.barplot(x='Assortment', y='Customers', data=df, palette = 'husl', order=['a','b','c'], ax=axis2).set_title('Customers across different assortment types')\n",
    "plt.show()"
   ]
  },
  {
   "cell_type": "markdown",
   "id": "d4ab8cb1",
   "metadata": {},
   "source": [
    "### DayOfWeek vs Sales and Customers"
   ]
  },
  {
   "cell_type": "code",
   "execution_count": 79,
   "id": "8902fe60",
   "metadata": {},
   "outputs": [
    {
     "data": {
      "image/png": "[encoded data removed]",
      "text/plain": [
       "<Figure size 1080x288 with 2 Axes>"
      ]
     },
     "metadata": {
      "needs_background": "light"
     },
     "output_type": "display_data"
    }
   ],
   "source": [
    "fig, (axis1,axis2) = plt.subplots(1,2,figsize=(15,4))\n",
    "sns.barplot(x='DayOfWeek', y='Sales', data=train_df, palette = 'RdBu_r', ax=axis1).set_title('Sales across different days of the week ')\n",
    "sns.barplot(x='DayOfWeek', y='Customers', data=train_df, palette = 'RdBu_r', ax=axis2).set_title('Customers across different days of the week ')\n",
    "plt.show()"
   ]
  },
  {
   "cell_type": "markdown",
   "id": "e92ed797",
   "metadata": {},
   "source": [
    "### Promo vs Sales and Customers"
   ]
  },
  {
   "cell_type": "code",
   "execution_count": 80,
   "id": "9ba5f2a8",
   "metadata": {},
   "outputs": [
    {
     "data": {
      "image/png": "[encoded data removed]",
      "text/plain": [
       "<Figure size 1080x288 with 2 Axes>"
      ]
     },
     "metadata": {
      "needs_background": "light"
     },
     "output_type": "display_data"
    }
   ],
   "source": [
    "flatui = [\"#9b59b6\", \"#3498db\", \"#95a5a6\", \"#e74c3c\", \"#34495e\", \"#2ecc71\"]\n",
    "fig, (axis1,axis2) = plt.subplots(1,2,figsize=(15,4))\n",
    "\n",
    "sns.barplot(x='Promo', y='Sales', data=train_df, palette = flatui, ax=axis1).set_title('Sales across different Promo')\n",
    "sns.barplot(x='Promo', y='Customers', data=train_df, ax=axis2,  palette = flatui).set_title('Customers across different Promo')\n",
    "plt.show()"
   ]
  },
  {
   "cell_type": "markdown",
   "id": "0a121ab4",
   "metadata": {},
   "source": [
    "### Promo2 vs Sales and Customers"
   ]
  },
  {
   "cell_type": "code",
   "execution_count": 81,
   "id": "2c856d91",
   "metadata": {},
   "outputs": [
    {
     "data": {
      "image/png": "[encoded data removed]",
      "text/plain": [
       "<Figure size 1080x288 with 2 Axes>"
      ]
     },
     "metadata": {
      "needs_background": "light"
     },
     "output_type": "display_data"
    }
   ],
   "source": [
    "flatui = [ \"#34495e\", \"#2ecc71\"]\n",
    "fig, (axis1,axis2) = plt.subplots(1,2,figsize=(15,4))\n",
    "\n",
    "sns.barplot(x='Promo2', y='Sales', data=df, ax=axis1, palette = flatui).set_title('Sales across different Promo2')\n",
    "sns.barplot(x='Promo2', y='Customers', data=df, ax=axis2, palette = flatui).set_title('Customers across different Promo2')\n",
    "plt.show()"
   ]
  },
  {
   "cell_type": "markdown",
   "id": "0af6ca51",
   "metadata": {},
   "source": [
    "### PromoInterval vs Sales and Customers"
   ]
  },
  {
   "cell_type": "code",
   "execution_count": 82,
   "id": "172e96c2",
   "metadata": {},
   "outputs": [
    {
     "data": {
      "image/png": "[encoded data removed]",
      "text/plain": [
       "<Figure size 1080x288 with 2 Axes>"
      ]
     },
     "metadata": {
      "needs_background": "light"
     },
     "output_type": "display_data"
    }
   ],
   "source": [
    "flatui = [\"#9b59b6\", \"#3498db\", \"#95a5a6\", \"#e74c3c\", \"#34495e\", \"#2ecc71\"]\n",
    "fig, (axis1,axis2) = plt.subplots(1,2,figsize=(15,4))\n",
    "\n",
    "# values with promo2 only\n",
    "mask = (df[\"Promo2\"] != 0)\n",
    "\n",
    "sns.barplot(x='PromoInterval', y='Sales', data=df[mask], ax=axis1, palette = flatui).set_title('Sales across different promo intervals')\n",
    "sns.barplot(x='PromoInterval', y='Customers', data=df[mask], ax=axis2, palette = flatui).set_title('Customers across different promo intervals')\n",
    "plt.show()\n"
   ]
  },
  {
   "cell_type": "markdown",
   "id": "799dd81c",
   "metadata": {},
   "source": [
    "### Open and DayOfWeek"
   ]
  },
  {
   "cell_type": "code",
   "execution_count": 83,
   "id": "4f64944f",
   "metadata": {},
   "outputs": [
    {
     "data": {
      "image/png": "[encoded data removed]",
      "text/plain": [
       "<Figure size 1080x288 with 1 Axes>"
      ]
     },
     "metadata": {
      "needs_background": "light"
     },
     "output_type": "display_data"
    }
   ],
   "source": [
    "fig, (axis1) = plt.subplots(1,1,figsize=(15,4))\n",
    "sns.countplot(x='Open',hue='DayOfWeek', data=train_df,palette=\"husl\", ax=axis1).set_title('\\nStores Opened/Closed across days of week\\n')\n",
    "plt.show()"
   ]
  },
  {
   "cell_type": "markdown",
   "id": "b5f1b273",
   "metadata": {},
   "source": [
    "### Sales and Month"
   ]
  },
  {
   "cell_type": "code",
   "execution_count": 84,
   "id": "252e4dc5",
   "metadata": {},
   "outputs": [
    {
     "data": {
      "image/png": "[encoded data removed]",
      "text/plain": [
       "<Figure size 432x288 with 1 Axes>"
      ]
     },
     "metadata": {
      "needs_background": "light"
     },
     "output_type": "display_data"
    }
   ],
   "source": [
    "sns.barplot(x='Month', y='Sales', data=df)\n",
    "plt.show()"
   ]
  },
  {
   "cell_type": "markdown",
   "id": "24e3ac12",
   "metadata": {},
   "source": [
    "### Competition distance and Sales"
   ]
  },
  {
   "cell_type": "code",
   "execution_count": 85,
   "id": "e87857b2",
   "metadata": {},
   "outputs": [
    {
     "data": {
      "image/png": "[encoded data removed]",
      "text/plain": [
       "<Figure size 576x504 with 1 Axes>"
      ]
     },
     "metadata": {
      "needs_background": "light"
     },
     "output_type": "display_data"
    }
   ],
   "source": [
    "a = df.groupby('Store').agg({\n",
    "    'CompetitionDistance': 'mean',\n",
    "    'Sales': 'mean',\n",
    "    'Customers': 'mean'\n",
    "})\n",
    "plt.subplots(figsize = (8, 7))\n",
    "sns.scatterplot(x='CompetitionDistance', y='Sales', data=a)\n",
    "plt.show()"
   ]
  },
  {
   "cell_type": "code",
   "execution_count": 86,
   "id": "ee5e08d3",
   "metadata": {},
   "outputs": [
    {
     "data": {
      "image/png": "[encoded data removed]",
      "text/plain": [
       "<Figure size 720x576 with 2 Axes>"
      ]
     },
     "metadata": {},
     "output_type": "display_data"
    }
   ],
   "source": [
    "f_most_correlated = df.corr().nlargest(8,'Sales')['Sales'].index\n",
    "f_correlation = df[f_most_correlated].corr()\n",
    "\n",
    "# Generate a mask for the upper triangle\n",
    "f_mask = np.zeros_like(f_correlation)\n",
    "f_mask[np.triu_indices_from(f_mask)] = True\n",
    "with sns.axes_style(\"white\"):\n",
    "    f_fig, f_ax = plt.subplots(figsize=(10, 8))\n",
    "    f_ax = sns.heatmap(f_correlation, mask=f_mask, vmin=0, vmax=1, square=True,\n",
    "                        annot=True, annot_kws={\"size\": 10}, cmap=\"BuPu\")\n",
    "plt.title('Top 7 features with highest correlation with sales')\n",
    "plt.show()"
   ]
  },
  {
   "cell_type": "markdown",
   "id": "f301316f",
   "metadata": {},
   "source": [
    "### Distribution of promotion in the training and test datasets"
   ]
  },
  {
   "cell_type": "code",
   "execution_count": 87,
   "id": "5a8feed6",
   "metadata": {},
   "outputs": [
    {
     "data": {
      "text/html": [
       "<div>\n",
       "<style scoped>\n",
       "    .dataframe tbody tr th:only-of-type {\n",
       "        vertical-align: middle;\n",
       "    }\n",
       "\n",
       "    .dataframe tbody tr th {\n",
       "        vertical-align: top;\n",
       "    }\n",
       "\n",
       "    .dataframe thead th {\n",
       "        text-align: right;\n",
       "    }\n",
       "</style>\n",
       "<table border=\"1\" class=\"dataframe\">\n",
       "  <thead>\n",
       "    <tr style=\"text-align: right;\">\n",
       "      <th></th>\n",
       "      <th>Id</th>\n",
       "      <th>Store</th>\n",
       "      <th>DayOfWeek</th>\n",
       "      <th>Date</th>\n",
       "      <th>Open</th>\n",
       "      <th>Promo</th>\n",
       "      <th>StateHoliday</th>\n",
       "      <th>SchoolHoliday</th>\n",
       "    </tr>\n",
       "  </thead>\n",
       "  <tbody>\n",
       "    <tr>\n",
       "      <th>0</th>\n",
       "      <td>1</td>\n",
       "      <td>1</td>\n",
       "      <td>4</td>\n",
       "      <td>2015-09-17</td>\n",
       "      <td>1.0</td>\n",
       "      <td>1</td>\n",
       "      <td>0</td>\n",
       "      <td>0</td>\n",
       "    </tr>\n",
       "    <tr>\n",
       "      <th>1</th>\n",
       "      <td>2</td>\n",
       "      <td>3</td>\n",
       "      <td>4</td>\n",
       "      <td>2015-09-17</td>\n",
       "      <td>1.0</td>\n",
       "      <td>1</td>\n",
       "      <td>0</td>\n",
       "      <td>0</td>\n",
       "    </tr>\n",
       "    <tr>\n",
       "      <th>2</th>\n",
       "      <td>3</td>\n",
       "      <td>7</td>\n",
       "      <td>4</td>\n",
       "      <td>2015-09-17</td>\n",
       "      <td>1.0</td>\n",
       "      <td>1</td>\n",
       "      <td>0</td>\n",
       "      <td>0</td>\n",
       "    </tr>\n",
       "    <tr>\n",
       "      <th>3</th>\n",
       "      <td>4</td>\n",
       "      <td>8</td>\n",
       "      <td>4</td>\n",
       "      <td>2015-09-17</td>\n",
       "      <td>1.0</td>\n",
       "      <td>1</td>\n",
       "      <td>0</td>\n",
       "      <td>0</td>\n",
       "    </tr>\n",
       "    <tr>\n",
       "      <th>4</th>\n",
       "      <td>5</td>\n",
       "      <td>9</td>\n",
       "      <td>4</td>\n",
       "      <td>2015-09-17</td>\n",
       "      <td>1.0</td>\n",
       "      <td>1</td>\n",
       "      <td>0</td>\n",
       "      <td>0</td>\n",
       "    </tr>\n",
       "    <tr>\n",
       "      <th>5</th>\n",
       "      <td>6</td>\n",
       "      <td>10</td>\n",
       "      <td>4</td>\n",
       "      <td>2015-09-17</td>\n",
       "      <td>1.0</td>\n",
       "      <td>1</td>\n",
       "      <td>0</td>\n",
       "      <td>0</td>\n",
       "    </tr>\n",
       "    <tr>\n",
       "      <th>6</th>\n",
       "      <td>7</td>\n",
       "      <td>11</td>\n",
       "      <td>4</td>\n",
       "      <td>2015-09-17</td>\n",
       "      <td>1.0</td>\n",
       "      <td>1</td>\n",
       "      <td>0</td>\n",
       "      <td>0</td>\n",
       "    </tr>\n",
       "    <tr>\n",
       "      <th>7</th>\n",
       "      <td>8</td>\n",
       "      <td>12</td>\n",
       "      <td>4</td>\n",
       "      <td>2015-09-17</td>\n",
       "      <td>1.0</td>\n",
       "      <td>1</td>\n",
       "      <td>0</td>\n",
       "      <td>0</td>\n",
       "    </tr>\n",
       "    <tr>\n",
       "      <th>8</th>\n",
       "      <td>9</td>\n",
       "      <td>13</td>\n",
       "      <td>4</td>\n",
       "      <td>2015-09-17</td>\n",
       "      <td>1.0</td>\n",
       "      <td>1</td>\n",
       "      <td>0</td>\n",
       "      <td>0</td>\n",
       "    </tr>\n",
       "    <tr>\n",
       "      <th>9</th>\n",
       "      <td>10</td>\n",
       "      <td>14</td>\n",
       "      <td>4</td>\n",
       "      <td>2015-09-17</td>\n",
       "      <td>1.0</td>\n",
       "      <td>1</td>\n",
       "      <td>0</td>\n",
       "      <td>0</td>\n",
       "    </tr>\n",
       "  </tbody>\n",
       "</table>\n",
       "</div>"
      ],
      "text/plain": [
       "   Id  Store  DayOfWeek        Date  Open  Promo StateHoliday  SchoolHoliday\n",
       "0   1      1          4  2015-09-17   1.0      1            0              0\n",
       "1   2      3          4  2015-09-17   1.0      1            0              0\n",
       "2   3      7          4  2015-09-17   1.0      1            0              0\n",
       "3   4      8          4  2015-09-17   1.0      1            0              0\n",
       "4   5      9          4  2015-09-17   1.0      1            0              0\n",
       "5   6     10          4  2015-09-17   1.0      1            0              0\n",
       "6   7     11          4  2015-09-17   1.0      1            0              0\n",
       "7   8     12          4  2015-09-17   1.0      1            0              0\n",
       "8   9     13          4  2015-09-17   1.0      1            0              0\n",
       "9  10     14          4  2015-09-17   1.0      1            0              0"
      ]
     },
     "execution_count": 87,
     "metadata": {},
     "output_type": "execute_result"
    }
   ],
   "source": [
    "# reading test data\n",
    "test_df = file_handler.read_csv(\"../data/test.csv\")\n",
    "test_df.head(10)"
   ]
  },
  {
   "cell_type": "code",
   "execution_count": 88,
   "id": "3a6032eb",
   "metadata": {},
   "outputs": [
    {
     "data": {
      "image/png": "[encoded data removed]",
      "text/plain": [
       "<Figure size 864x288 with 2 Axes>"
      ]
     },
     "metadata": {
      "needs_background": "light"
     },
     "output_type": "display_data"
    }
   ],
   "source": [
    "fig, ax = plt.subplots(1, 2, sharex=True, figsize=(12, 4))\n",
    "ax[0].set_title(\"Train\")\n",
    "sns.countplot(x='Promo', data=train_df, ax=ax[0])\n",
    "ax[1].set_title(\"Test\")\n",
    "sns.countplot(x='Promo', data=test_df, ax=ax[1])\n",
    "fig.subplots_adjust(wspace=0.5)\n",
    "fig.show()"
   ]
  },
  {
   "cell_type": "markdown",
   "id": "536ad0b0",
   "metadata": {},
   "source": [
    "The distribution of promotion is almost the same in both datasets."
   ]
  },
  {
   "cell_type": "markdown",
   "id": "31e3f090",
   "metadata": {},
   "source": [
    "### Monthly sales trend per store type"
   ]
  },
  {
   "cell_type": "code",
   "execution_count": 89,
   "id": "62a307b5",
   "metadata": {},
   "outputs": [],
   "source": [
    "store_type_a = df[df.StoreType == 'a']\n",
    "store_type_b = df[df.StoreType == 'b']\n",
    "store_type_c = df[df.StoreType == 'c']\n",
    "store_type_d = df[df.StoreType == 'd']"
   ]
  },
  {
   "cell_type": "code",
   "execution_count": 90,
   "id": "a3000073",
   "metadata": {},
   "outputs": [
    {
     "data": {
      "image/png": "[encoded data removed]",
      "text/plain": [
       "<Figure size 720x648 with 1 Axes>"
      ]
     },
     "metadata": {
      "needs_background": "light"
     },
     "output_type": "display_data"
    }
   ],
   "source": [
    "plt.subplots(figsize = (10, 9))\n",
    "sns.lineplot(x = store_type_a.Month, y = store_type_a.Sales, label=\"Store Type A\")\n",
    "sns.lineplot(x = store_type_b.Month, y = store_type_b.Sales, label=\"Store Type B\")\n",
    "sns.lineplot(x = store_type_c.Month, y = store_type_c.Sales, label=\"Store Type C\")\n",
    "sns.lineplot(x = store_type_d.Month, y = store_type_d.Sales, label=\"Store Type D\")\n",
    "plt.show()"
   ]
  },
  {
   "cell_type": "markdown",
   "id": "acabb491",
   "metadata": {},
   "source": [
    "### Monthly sales per StoreType and Promo"
   ]
  },
  {
   "cell_type": "code",
   "execution_count": 91,
   "id": "b03cc908",
   "metadata": {},
   "outputs": [
    {
     "data": {
      "image/png": "[encoded data removed]",
      "text/plain": [
       "<Figure size 1482.38x360 with 4 Axes>"
      ]
     },
     "metadata": {
      "needs_background": "light"
     },
     "output_type": "display_data"
    }
   ],
   "source": [
    "sns.factorplot(data = df, x = 'Month', y = \"Sales\",\n",
    "               col = 'StoreType', # per store type in cols\n",
    "               palette = 'plasma',\n",
    "               hue = 'Promo',\n",
    "               col_order=['a','b','c', 'd'],\n",
    "               title='Promotion impact on sales per store types')\n",
    "plt.show()"
   ]
  },
  {
   "cell_type": "markdown",
   "id": "1809e448",
   "metadata": {},
   "source": [
    "### Monthly customers per StoreType and Promo"
   ]
  },
  {
   "cell_type": "code",
   "execution_count": 92,
   "id": "9e8975d0",
   "metadata": {},
   "outputs": [
    {
     "data": {
      "image/png": "[encoded data removed]",
      "text/plain": [
       "<Figure size 1482.38x360 with 4 Axes>"
      ]
     },
     "metadata": {
      "needs_background": "light"
     },
     "output_type": "display_data"
    }
   ],
   "source": [
    "sns.factorplot(data = df, x = 'Month', y = \"Customers\",\n",
    "               col = 'StoreType', # per store type in cols\n",
    "               palette = 'plasma',\n",
    "               hue = 'Promo',\n",
    "               col_order=['a','b','c', 'd'],\n",
    "               title='Promotion impact on sales per store types')\n",
    "plt.show()"
   ]
  },
  {
   "cell_type": "markdown",
   "id": "0097bc60",
   "metadata": {},
   "source": [
    "### Monthly sales per Assortment and Promo"
   ]
  },
  {
   "cell_type": "code",
   "execution_count": 93,
   "id": "88bc2f73",
   "metadata": {},
   "outputs": [
    {
     "data": {
      "image/png": "[encoded data removed]",
      "text/plain": [
       "<Figure size 1122.38x360 with 3 Axes>"
      ]
     },
     "metadata": {
      "needs_background": "light"
     },
     "output_type": "display_data"
    }
   ],
   "source": [
    "sns.factorplot(data = df, x = 'Month', y = 'Sales', col='Assortment', hue='Promo', col_order=['a','b','c'])\n",
    "plt.show()"
   ]
  },
  {
   "cell_type": "markdown",
   "id": "5e505242",
   "metadata": {},
   "source": [
    "### Monthly customers per Assortment and Promo"
   ]
  },
  {
   "cell_type": "code",
   "execution_count": 94,
   "id": "59b69afa",
   "metadata": {},
   "outputs": [
    {
     "data": {
      "image/png": "[encoded data removed]",
      "text/plain": [
       "<Figure size 1122.38x360 with 3 Axes>"
      ]
     },
     "metadata": {
      "needs_background": "light"
     },
     "output_type": "display_data"
    }
   ],
   "source": [
    "sns.factorplot(data = df, x = 'Month', y = 'Customers', col='Assortment', hue='Promo', col_order=['a','b','c'])\n",
    "plt.show()"
   ]
  },
  {
   "cell_type": "markdown",
   "id": "4210c700",
   "metadata": {},
   "source": [
    "### Sales of stores open per DayOfWeek and StoreType"
   ]
  },
  {
   "cell_type": "code",
   "execution_count": 95,
   "id": "2328e0a6",
   "metadata": {},
   "outputs": [
    {
     "data": {
      "image/png": "[encoded data removed]",
      "text/plain": [
       "<Figure size 1440x360 with 4 Axes>"
      ]
     },
     "metadata": {
      "needs_background": "light"
     },
     "output_type": "display_data"
    }
   ],
   "source": [
    "# stores that are open only\n",
    "mask = (df[\"Open\"] != 0)\n",
    "\n",
    "sns.factorplot(data = df[mask], x = 'DayOfWeek', y = 'Sales', col='StoreType', col_order=['a','b','c', 'd'])\n",
    "plt.show()"
   ]
  },
  {
   "cell_type": "markdown",
   "id": "ae3bda62",
   "metadata": {},
   "source": [
    "### Sales of stores open per DayOfWeek and Assortment"
   ]
  },
  {
   "cell_type": "code",
   "execution_count": 96,
   "id": "a0a0a258",
   "metadata": {},
   "outputs": [
    {
     "data": {
      "image/png": "[encoded data removed]",
      "text/plain": [
       "<Figure size 1080x360 with 3 Axes>"
      ]
     },
     "metadata": {
      "needs_background": "light"
     },
     "output_type": "display_data"
    }
   ],
   "source": [
    "# stores that are open only\n",
    "mask = (df[\"Open\"] != 0)\n",
    "\n",
    "sns.factorplot(data = df[mask], x = 'DayOfWeek', y = 'Sales', col='Assortment', col_order=['a','b','c'])\n",
    "plt.show()"
   ]
  },
  {
   "cell_type": "markdown",
   "id": "41e66ea1",
   "metadata": {},
   "source": [
    "### Sales before, after and during Christmas"
   ]
  },
  {
   "cell_type": "code",
   "execution_count": 97,
   "id": "e5e256f2",
   "metadata": {},
   "outputs": [
    {
     "data": {
      "image/png": "[encoded data removed]",
      "text/plain": [
       "<Figure size 936x432 with 1 Axes>"
      ]
     },
     "metadata": {
      "needs_background": "light"
     },
     "output_type": "display_data"
    }
   ],
   "source": [
    "before_index = (train_df[\"Date\"] >= pd.to_datetime(\"2013-11-25\")) & (train_df[\"Date\"] < pd.to_datetime(\"2013-12-25\"))\n",
    "before_xmass = train_df[before_index].groupby(\"Date\").agg({\"Sales\": \"mean\"})\n",
    "\n",
    "during_index = (train_df[\"Date\"] >= pd.to_datetime(\"2013-12-25\")) & (train_df[\"Date\"] < pd.to_datetime(\"2013-12-30\"))\n",
    "during_xmass = train_df[during_index].groupby(\"Date\").agg({\"Sales\": \"mean\"})\n",
    "\n",
    "after_index = (train_df[\"Date\"] >= pd.to_datetime(\"2014-01-01\")) & (train_df[\"Date\"] < pd.to_datetime(\"2014-02-02\"))\n",
    "after_xmass = train_df[after_index].groupby(\"Date\").agg({\"Sales\": \"mean\"})\n",
    "\n",
    "\n",
    "plt.figure(figsize=(13, 6))\n",
    "\n",
    "sns.lineplot(x = before_xmass.index, y = before_xmass[\"Sales\"], label='Before Christmas')\n",
    "sns.lineplot(x = during_xmass.index, y = during_xmass[\"Sales\"], label='During Christmas')\n",
    "sns.lineplot(x = after_xmass.index, y = after_xmass[\"Sales\"], label='After Christmas')\n",
    "\n",
    "plt.title(\"\\n Christmass Sales 2013/2014 \\n\", size=20)\n",
    "plt.xticks(fontsize=14)\n",
    "plt.yticks(fontsize=14)\n",
    "plt.xlabel(xlabel=\"Date\", fontsize=16)\n",
    "plt.ylabel(ylabel=\"Sales\", fontsize=16)\n",
    "plt.show()"
   ]
  },
  {
   "cell_type": "markdown",
   "id": "f3820e92",
   "metadata": {},
   "source": [
    "## Results of EDA"
   ]
  },
  {
   "cell_type": "markdown",
   "id": "9d045a15",
   "metadata": {},
   "source": [
    "- The most selling and crowded store type with the best assortment is b.\n",
    "- Sales is highly correlated to customers.\n",
    "- For all stores, promotion leads to increase in Sales and Customers. But promotions have low impact on store type b and assortment b when comparing to the other store types and assortments. Therefore, promotions should be applied more in the other store types and assortments.\n",
    "- Store type b is the most opened store type on all weekdays and has its highest sales on sundays than the other days.\n",
    "- Assortment a and b are the most opened assortments on all weekdays and have their highest sales on sundays than the other days. The number of cusomers increase dramatically on sundays for assortment a while it is similar with other week days for assortment b.\n",
    "- Sales increased during Chirstmas week, especially the week before. This might be due to the fact that people buy more products or medicines for precaution during Christmas celebration.\n",
    "- Stores with the smallest competition distance have the highest sales. This indicates that the stores are located at city center or near hospitals. Even though not having competitors is ideally considered great for sales, stores located at city centers will still get more sales regardless of competitors distance as there are more customers at city centers."
   ]
  },
  {
   "cell_type": "code",
   "execution_count": null,
   "id": "d0bdcabe",
   "metadata": {},
   "outputs": [],
   "source": []
  }
 ],
 "metadata": {
  "kernelspec": {
   "display_name": "Python 3 (ipykernel)",
   "language": "python",
   "name": "python3"
  },
  "language_info": {
   "codemirror_mode": {
    "name": "ipython",
    "version": 3
   },
   "file_extension": ".py",
   "mimetype": "text/x-python",
   "name": "python",
   "nbconvert_exporter": "python",
   "pygments_lexer": "ipython3",
   "version": "3.9.7"
  }
 },
 "nbformat": 4,
 "nbformat_minor": 5
}
